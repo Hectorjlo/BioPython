{
 "cells": [
  {
   "cell_type": "markdown",
   "id": "122d5894",
   "metadata": {},
   "source": [
    "## Check http://www.uusmb.unam.mx/Cursos/pythonII/Sesion2_p2.html to see class version"
   ]
  },
  {
   "cell_type": "code",
   "execution_count": 35,
   "id": "a6091a18",
   "metadata": {},
   "outputs": [
    {
     "name": "stdout",
     "output_type": "stream",
     "text": [
      "1.85\n"
     ]
    }
   ],
   "source": [
    "import Bio.Seq\n",
    "print(Bio.__version__)"
   ]
  },
  {
   "cell_type": "code",
   "execution_count": null,
   "id": "ad4350c7",
   "metadata": {},
   "outputs": [
    {
     "data": {
      "text/plain": [
       "Seq('ATGCGATCGAGC')"
      ]
     },
     "execution_count": 1,
     "metadata": {},
     "output_type": "execute_result"
    }
   ],
   "source": [
    "\n",
    "\n",
    "# Esto Crea una secuencia genómica (un objeto)\n",
    "seqobj = Bio.Seq.Seq('ATGCGATCGAGC')\n",
    "\n",
    "seqobj"
   ]
  },
  {
   "cell_type": "markdown",
   "id": "d654df29",
   "metadata": {},
   "source": [
    "Si te das cuenta eso crea un objeto Seq() y dentro la secuencia"
   ]
  },
  {
   "cell_type": "code",
   "execution_count": 2,
   "id": "b321acbe",
   "metadata": {},
   "outputs": [
    {
     "name": "stdout",
     "output_type": "stream",
     "text": [
      "ATGCGATCGAGC  tiene  12  nucleotidos\n"
     ]
    }
   ],
   "source": [
    "# Puedes retornar desde un objeto seq() \n",
    "seq_str = str(seqobj)  # convertir con str()\n",
    "print(seq_str,' tiene ',len(seq_str),' nucleotidos')"
   ]
  },
  {
   "cell_type": "markdown",
   "id": "86245b53",
   "metadata": {},
   "source": [
    "Abreviemos\n",
    "Para no tener que escribir todo el tiempo Bio.Seq.Seq podemos hacer:"
   ]
  },
  {
   "cell_type": "code",
   "execution_count": 3,
   "id": "3de183fb",
   "metadata": {},
   "outputs": [],
   "source": [
    "from Bio.Seq import Seq #<<\n",
    "seqobj = Seq('ATGCGATCGAGC')"
   ]
  },
  {
   "cell_type": "markdown",
   "id": "fa83b19c",
   "metadata": {},
   "source": [
    "# Inmutabilidad \n",
    "Los objetos seq() por obvias razones es un objeto inmutable"
   ]
  },
  {
   "cell_type": "markdown",
   "id": "e2e49ace",
   "metadata": {},
   "source": [
    "Aunque podríamos usar la funcion .MutableSeq() para convertir a objeto mutable, pero eso no es util a menos que estemos trabajando de alguna manera en ver que pasa cuando existen mutaciones "
   ]
  },
  {
   "cell_type": "code",
   "execution_count": 7,
   "id": "e4ef06ee",
   "metadata": {},
   "outputs": [
    {
     "name": "stdout",
     "output_type": "stream",
     "text": [
      "TTGCGATCGAGC\n",
      "ATGCGATCGAGC\n"
     ]
    }
   ],
   "source": [
    "# Podríamos usar la funcion .MutableSeq() para convertir a objeto mutable\n",
    "from Bio.Seq import MutableSeq\n",
    "# objeto mut_seq será mutable!\n",
    "mut_seq = MutableSeq(seqobj)\n",
    "mut_seq[0] = \"T\" \n",
    "print(mut_seq)\n",
    "print(seqobj)\n"
   ]
  },
  {
   "cell_type": "markdown",
   "id": "8a20e055",
   "metadata": {},
   "source": [
    "# ¿Cómo obtendrían la secuencia complementaria?\n"
   ]
  },
  {
   "cell_type": "markdown",
   "id": "51ed4545",
   "metadata": {},
   "source": [
    "Debido a que Python es Case sensentive podemos hacer uso de minusculas para cambiar todo eso uno a uno y sin conflictos"
   ]
  },
  {
   "cell_type": "code",
   "execution_count": null,
   "id": "ae62f3ba",
   "metadata": {},
   "outputs": [
    {
     "data": {
      "text/plain": [
       "'gctcgatcgcat'"
      ]
     },
     "execution_count": 8,
     "metadata": {},
     "output_type": "execute_result"
    }
   ],
   "source": [
    "#invertir secuencia \n",
    "seq_str = seq_str[::-1]\n",
    "#remplazar cada nucleotido por su complementario\n",
    "seq_str = seq_str.replace('A', 't') \n",
    "seq_str = seq_str.replace('C', 'g')\n",
    "seq_str = seq_str.replace('G', 'c')\n",
    "seq_str = seq_str.replace('T', 'a')\n",
    "seq_str"
   ]
  },
  {
   "cell_type": "markdown",
   "id": "6647595b",
   "metadata": {},
   "source": [
    "Pero su usamos el objeto que fue creado con Seq(), este tiene una funcion que hace esto de manera rápida\n",
    "## .complement() y .reverse_complement()"
   ]
  },
  {
   "cell_type": "code",
   "execution_count": 9,
   "id": "a55fbebf",
   "metadata": {},
   "outputs": [
    {
     "data": {
      "text/plain": [
       "Seq('TACGCTAGCTCG')"
      ]
     },
     "execution_count": 9,
     "metadata": {},
     "output_type": "execute_result"
    }
   ],
   "source": [
    "#Secuencia complementaria\n",
    "seqobj.complement()\n"
   ]
  },
  {
   "cell_type": "code",
   "execution_count": 10,
   "id": "6ddd95c0",
   "metadata": {},
   "outputs": [
    {
     "data": {
      "text/plain": [
       "Seq('GCTCGATCGCAT')"
      ]
     },
     "execution_count": 10,
     "metadata": {},
     "output_type": "execute_result"
    }
   ],
   "source": [
    "#Secuencia reverso complementaria:\n",
    "\n",
    "seqobj.reverse_complement() "
   ]
  },
  {
   "cell_type": "markdown",
   "id": "ddb9b001",
   "metadata": {},
   "source": [
    "Podemos usar otras funciones\n",
    "# .transcribe() y .reverse_transcribe()\n"
   ]
  },
  {
   "cell_type": "code",
   "execution_count": 11,
   "id": "9e0a050c",
   "metadata": {},
   "outputs": [
    {
     "name": "stdout",
     "output_type": "stream",
     "text": [
      "AUGCGAUCGAGC\n"
     ]
    }
   ],
   "source": [
    "# Obtener transcrito\n",
    "\n",
    "rna = seqobj.transcribe() \n",
    "print(rna)"
   ]
  },
  {
   "cell_type": "code",
   "execution_count": 12,
   "id": "376cd24e",
   "metadata": {},
   "outputs": [
    {
     "name": "stdout",
     "output_type": "stream",
     "text": [
      "ATGCGATCGAGC\n"
     ]
    }
   ],
   "source": [
    "# y retrotranscripto\n",
    "\n",
    "print(rna.back_transcribe())"
   ]
  },
  {
   "cell_type": "markdown",
   "id": "4942799a",
   "metadata": {},
   "source": [
    "Podemos extraer con el uso de re, codones o subsecuecnias, debido a que los objetos Seq() son iterables, podemos hacer uso del splicing para generar partes de la secuencia original"
   ]
  },
  {
   "cell_type": "code",
   "execution_count": 13,
   "id": "6e680e14",
   "metadata": {},
   "outputs": [
    {
     "data": {
      "text/plain": [
       "Seq('ATG')"
      ]
     },
     "execution_count": 13,
     "metadata": {},
     "output_type": "execute_result"
    }
   ],
   "source": [
    "#Para ejemplo extraeremos el primer codón [0:3]\n",
    "seqobj = Seq('ATGCGATCGAGC')\n",
    "seqobj[0:3]"
   ]
  },
  {
   "cell_type": "markdown",
   "id": "a6e09302",
   "metadata": {},
   "source": [
    "Si te das cuenta, el splicing a la vez genera otro objeto Seq()"
   ]
  },
  {
   "cell_type": "markdown",
   "id": "e83c803c",
   "metadata": {},
   "source": [
    "O podemos hacer uso de las increibles capacidades del REGEX"
   ]
  },
  {
   "cell_type": "code",
   "execution_count": 15,
   "id": "8baea5bb",
   "metadata": {},
   "outputs": [
    {
     "name": "stdout",
     "output_type": "stream",
     "text": [
      "ATG\n",
      "CGA\n",
      "TCG\n",
      "AGC\n",
      "<class 'str'>\n"
     ]
    }
   ],
   "source": [
    "# Podríamos usar expresiones regulares para obtener cada codón, con el módulo `re`\n",
    "\n",
    "import re\n",
    "for codon in re.findall(r\"(.{3})\", str(seqobj)):\n",
    "    print(codon)\n",
    "\n",
    "print(type(codon))"
   ]
  },
  {
   "cell_type": "markdown",
   "id": "325f3642",
   "metadata": {},
   "source": [
    "Pero esto si te das cuenta ya no genera objetos de tipo Seq() si no vuelven a ser de tipo str"
   ]
  },
  {
   "cell_type": "markdown",
   "id": "7ade6681",
   "metadata": {},
   "source": [
    "Con el uso de REGEX podemos hacer uso para buscar secuencias específicas"
   ]
  },
  {
   "cell_type": "markdown",
   "id": "8a203f21",
   "metadata": {},
   "source": [
    "## .nt_search()\n",
    "Busca un patron dado"
   ]
  },
  {
   "cell_type": "code",
   "execution_count": 22,
   "id": "7add7a73",
   "metadata": {},
   "outputs": [
    {
     "name": "stdout",
     "output_type": "stream",
     "text": [
      "['ACG', 7, 31]\n",
      "Las posiciones que nos da es del indice en la cadena que empieza en 0, es decir en este caso\n",
      "7, 31, nos dice que el patron ACG se encontro dos veces, la primera inicia en la pos 7 y la segunda en la 31\n"
     ]
    }
   ],
   "source": [
    "## Buscar patrones\n",
    "\n",
    "# Buscaremos el patrón **ACG**\n",
    "\n",
    "# from Bio.Seq import Seq\n",
    "from Bio import SeqUtils \n",
    "# Patrón a buscar\n",
    "pattern = Seq(\"ACG\")\n",
    "# Secuencia donde buscaremos patrón\n",
    "sequence = Seq(\"ATGCGCGACGGCGTGATCAGCTTATAGCCGTACGACTGCTGC\")\n",
    "# Busqueda patrón en secuencia tipo STRING!!\n",
    "results = SeqUtils.nt_search(str(sequence), pattern) \n",
    "\n",
    "print(results)  # patrón y posiciones \n",
    "print('Las posiciones que nos da es del indice en la cadena que empieza en 0, es decir en este caso' \\\n",
    "'\\n7, 31, nos dice que el patron ACG se encontro dos veces, la primera inicia en la pos 7 y la segunda en la 31')\n"
   ]
  },
  {
   "cell_type": "markdown",
   "id": "a1b3c182",
   "metadata": {},
   "source": [
    "## Conversión entre formatos de archivo de secuencia\n",
    "Una función muy util en biopython es leer un archivo en un formato y escribirlo en otro formato. Por jemplo: Leamos un archivo en formato GenBank y escibamoslo en formato fasta"
   ]
  },
  {
   "cell_type": "markdown",
   "id": "5e3430f5",
   "metadata": {},
   "source": [
    "Podemos hacer uso de las herramientas para diversos propositos\n"
   ]
  },
  {
   "cell_type": "markdown",
   "id": "f7036446",
   "metadata": {},
   "source": [
    "Buscar patrón reverso complementario\n",
    "Usando los métodos de Seq, buscar el reverso complementario del patrón en la misma secuencia:"
   ]
  },
  {
   "cell_type": "code",
   "execution_count": null,
   "id": "bfb16fb3",
   "metadata": {},
   "outputs": [
    {
     "name": "stdout",
     "output_type": "stream",
     "text": [
      "['CGT', 11, 28]\n"
     ]
    }
   ],
   "source": [
    "# reverse_complement()\n",
    "results_rc = SeqUtils.nt_search(str(sequence), pattern.reverse_complement())\n",
    "print(results_rc)"
   ]
  },
  {
   "cell_type": "markdown",
   "id": "c91555d3",
   "metadata": {},
   "source": [
    "## Contenido de GC"
   ]
  },
  {
   "cell_type": "code",
   "execution_count": 33,
   "id": "02c27dc7",
   "metadata": {},
   "outputs": [
    {
     "name": "stdout",
     "output_type": "stream",
     "text": [
      "0.625\n"
     ]
    }
   ],
   "source": [
    "from Bio.SeqUtils import gc_fraction\n",
    "gc_fraction(seqobj)  \n",
    "print(gc_fraction('AGCGTGCA'))\n"
   ]
  },
  {
   "cell_type": "markdown",
   "id": "30a40b89",
   "metadata": {},
   "source": [
    "## Para proteinas podemos usar molecular_weight()"
   ]
  },
  {
   "cell_type": "code",
   "execution_count": 34,
   "id": "f8b1f941",
   "metadata": {},
   "outputs": [
    {
     "data": {
      "text/plain": [
       "3750.3901999999994"
      ]
     },
     "execution_count": 34,
     "metadata": {},
     "output_type": "execute_result"
    }
   ],
   "source": [
    "#### calcular masa molecular\n",
    "from Bio.SeqUtils import molecular_weight #<<\n",
    "molecular_weight(seqobj)"
   ]
  },
  {
   "cell_type": "markdown",
   "id": "18caa3b9",
   "metadata": {},
   "source": [
    "Para el Input/Output se requiere importar SeqIO de (Input/Output)"
   ]
  },
  {
   "cell_type": "code",
   "execution_count": null,
   "id": "a0cec57a",
   "metadata": {},
   "outputs": [],
   "source": [
    "from Bio import SeqIO\n",
    "\n",
    "records = SeqIO.parse(\"<INPUT_PATH>\", \"<TYPE> (e.g: genbank)\")\n",
    "count = SeqIO.write(records, \"<OUTPUT_PATH>\", \"<TYPE> (e.g: fasta)\")\n",
    "print(\"Converted %i records\" % count)"
   ]
  },
  {
   "cell_type": "markdown",
   "id": "0314a95a",
   "metadata": {},
   "source": [
    "## .count() and .find() Uso de las funciones del objeto Seq() para contar y encontrar la primera posición de un patron\n"
   ]
  },
  {
   "cell_type": "code",
   "execution_count": 38,
   "id": "2f79fc9c",
   "metadata": {},
   "outputs": [
    {
     "name": "stdout",
     "output_type": "stream",
     "text": [
      "1\n",
      "2\n"
     ]
    }
   ],
   "source": [
    "#### Contar nt\n",
    "\n",
    "print(seqobj.count(\"ATG\")) \n",
    "print(seqobj.find(\"GC\"))  # nos da la primera posición que encuentra \n",
    "# (-1 si no encuentra)\n",
    "#No sobrelapa, por lo que en \"AAAA\" dará 2 para \"AA\""
   ]
  }
 ],
 "metadata": {
  "kernelspec": {
   "display_name": "Python 3",
   "language": "python",
   "name": "python3"
  },
  "language_info": {
   "codemirror_mode": {
    "name": "ipython",
    "version": 3
   },
   "file_extension": ".py",
   "mimetype": "text/x-python",
   "name": "python",
   "nbconvert_exporter": "python",
   "pygments_lexer": "ipython3",
   "version": "3.11.9"
  }
 },
 "nbformat": 4,
 "nbformat_minor": 5
}

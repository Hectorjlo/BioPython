{
 "cells": [
  {
   "cell_type": "markdown",
   "id": "8c7d39da",
   "metadata": {},
   "source": [
    "### Ejercicio 2:\n",
    "\n",
    "Genere la clase gen con al menos 3 atributos, y 3 métodos (contando el constructor)"
   ]
  },
  {
   "cell_type": "code",
   "execution_count": 1,
   "id": "9edffaaa",
   "metadata": {},
   "outputs": [
    {
     "name": "stdout",
     "output_type": "stream",
     "text": [
      "The lenght of the gene (lacY) is of 34 bases and is overexpressed\n",
      "It has 44.12% of GC content\n"
     ]
    }
   ],
   "source": [
    "class gene:\n",
    "\n",
    "    def __init__(self, name, sequence, expression, isDNA=True):\n",
    "        self.name = name\n",
    "        self.expression = expression\n",
    "        self.sequence = sequence.upper().replace(\" \", \"\")\n",
    "        self.isDNA = isDNA\n",
    "\n",
    "\n",
    "    def lenght(self):\n",
    "        \"\"\"Gives the lenght of the sequence\"\"\"\n",
    "        return len(self.sequence)\n",
    "\n",
    "    def gc_content(self):\n",
    "        \"\"\"GC content of the sequence\"\"\"\n",
    "        if not self.sequence:\n",
    "            return 0.0\n",
    "        g = self.sequence.count('G')\n",
    "        c = self.sequence.count('C')\n",
    "        return round((g + c) * 100.0 / len(self.sequence), 2)\n",
    "\n",
    "    \n",
    "# Probe \n",
    "dna_gene = gene(\"lacY\", \"AAATGCATCAGCTAGCTAGCTAGCATCGATCGAT\", \"overexpressed\")\n",
    "print(f'The lenght of the gene ({dna_gene.name}) is of {dna_gene.lenght()} bases and is {dna_gene.expression}')\n",
    "print(f'It has {dna_gene.gc_content()}% of GC content')\n"
   ]
  }
 ],
 "metadata": {
  "kernelspec": {
   "display_name": "Python 3",
   "language": "python",
   "name": "python3"
  },
  "language_info": {
   "codemirror_mode": {
    "name": "ipython",
    "version": 3
   },
   "file_extension": ".py",
   "mimetype": "text/x-python",
   "name": "python",
   "nbconvert_exporter": "python",
   "pygments_lexer": "ipython3",
   "version": "3.11.9"
  }
 },
 "nbformat": 4,
 "nbformat_minor": 5
}

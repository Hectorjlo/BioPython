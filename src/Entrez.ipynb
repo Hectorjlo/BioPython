{
 "cells": [
  {
   "cell_type": "markdown",
   "id": "9d374651",
   "metadata": {},
   "source": [
    "# Exploración y descarga de datos de RNA-Seq"
   ]
  },
  {
   "cell_type": "markdown",
   "id": "dc2ac463",
   "metadata": {},
   "source": [
    "## Pregunta\n",
    "\n",
    "> ¿Cómo podemos acceder, explorar y descargar datos de RNA-Seq asociados a un BioProject específico (PRJNAXXX), para su posterior análisis transcriptómico, incluyendo el genoma de referencia necesario para el alineamiento de las lecturas?\n",
    "\n",
    "## Objetivos\n",
    "\n",
    "**General:**\n",
    "\n",
    "> Entender el proceso de exploración y descarga de datos de RNA-Seq y del genoma de referencia desde NCBI, siguiendo la relación BioProject → GEO → GSM → SRR → Genoma, utilizando Biopython y SRA Toolkit.\n",
    "\n",
    "**Específicos:**\n",
    "\n",
    "> 1. Comprender la estructura jerárquica de NCBI: BioProject, BioSample, GEO Series (GSE), GEO Samples (GSM) y SRA Runs (SRR).  \n",
    "> 2. Obtener información de un BioProject específico usando Biopython (`esearch`, `esummary`, `elink`).  \n",
    "> 3. Identificar las muestras (GSM) y sus archivos de secuenciación (SRR) asociados al proyecto.  \n",
    "> 4. Descargar los archivos SRR y convertirlos a formato FASTQ utilizando SRA Toolkit.  \n",
    "> 5. Combinar archivos de lecturas *forward* y *reverse* cuando corresponda, generando archivos finales representativos de cada muestra.  \n",
    "> 6. Consultar y descargar el **genoma de referencia** del organismo correspondiente, incluyendo secuencias y archivos de anotación (GFF), para el posterior mapeo y análisis de expresión diferencial.\n"
   ]
  },
  {
   "cell_type": "markdown",
   "id": "4a7ccf27",
   "metadata": {},
   "source": [
    "## 1. Problemática: Pasilla en *Drosophila melanogaster*\n",
    "\n",
    "Como vimos en clases anteriores, el proyecto que abordaremos está relacionado con la expresión del gen **Pasilla**. El experimento evaluó cómo la inhibición de este gen, ortólogo en *Drosophila melanogaster* de los genes **NOVA1** y **NOVA2** en mamíferos, afecta el **transcriptoma**. Para ello, se analizaron datos de **RNA-Seq** depositados en [**NCBI-GEO**](https://www.ncbi.nlm.nih.gov/geo/) (accesos **GSM461176** a **GSM461182**) y asociados al **BioProject [PRJNA168994](https://www.ncbi.nlm.nih.gov/bioproject/PRJNA168994)**, según el estudio publicado por **[Brooks et al.](https://genome.cshlp.org/content/21/2/193)** en *Genome Research*. En esta clase, nos enfocaremos en la descarga y consulta de los datos asociados al proyecto [**PRJNA168994**](https://www.ncbi.nlm.nih.gov/bioproject/PRJNA168994), prestando especial atención a las muestras **GSM461176** a **GSM461182**, y revisaremos de manera general el uso de [**Biopython**](https://biopython.org/) y [**SRA Toolkit**](https://github.com/ncbi/sra-tools) para la obtención de los datos.\n"
   ]
  },
  {
   "cell_type": "markdown",
   "id": "dae52124",
   "metadata": {},
   "source": [
    "## 2. Conceptos clave: BioProject, BioSample, SRA y GEO\n",
    "\n",
    "De manera general, un **BioProject (PRJNAxxxxxx)** describe el proyecto de investigación en su conjunto (por ejemplo, un estudio de RNA-Seq) y se vincula a una o varias **BioSamples (SAMNxxxxxx)**, que documentan las características biológicas de cada muestra. A partir de estas BioSamples se generan los datos crudos de secuenciación, almacenados en el [**Sequence Read Archive (SRA, SRRxxxxxx)**](https://www.ncbi.nlm.nih.gov/sra).\n",
    "\n",
    "En algunos casos, el proyecto también deposita información en **Gene Expression Omnibus (GEO)**:  \n",
    "\n",
    "- Cada **GSE** corresponde a un experimento completo.  \n",
    "- Cada **GSM** corresponde a una muestra individual, asociada a sus archivos de secuenciación.  \n",
    "\n",
    "En resumen, la ruta **BioProject → BioSample → SRA** está siempre presente, mientras que la rama hacia **GEO** es opcional y depende del tipo de estudio.\n"
   ]
  },
  {
   "cell_type": "raw",
   "id": "3e77f866",
   "metadata": {
    "vscode": {
     "languageId": "raw"
    }
   },
   "source": [
    "BioProject (PRJNAxxxxxx)\n",
    "│   → describe el proyecto general (ej. un estudio de RNA-Seq)\n",
    "│\n",
    "├── BioSample (SAMNxxxxxx)\n",
    "│     → describe las características biológicas de cada muestra\n",
    "│\n",
    "├── SRA (SRRxxxxxx)\n",
    "│     → archivos crudos de secuenciación (FASTQ/BAM)\n",
    "│\n",
    "└── GEO (opcional)\n",
    "      ├── GSE (Serie de GEO / Experimento)\n",
    "      │     → describe un experimento completo con diseño y condiciones\n",
    "      │\n",
    "      └── GSM (Muestra de GEO)\n",
    "            → muestra individual (ej. \"Untreated 2\")\n",
    "            → incluye metadatos y vínculos a SRR\n",
    "\n"
   ]
  },
  {
   "cell_type": "markdown",
   "id": "e9f57516",
   "metadata": {},
   "source": [
    "## 3. Exploración de datos en NCBI con Biopython\n",
    "\n",
    "Antes de descargar datos, podemos obtener información general sobre un **BioProject** (por ejemplo, [**PRJNA168994**](https://www.ncbi.nlm.nih.gov/bioproject/PRJNA168994)) utilizando la biblioteca [**Biopython**](https://biopython.org/) y sus funciones de `Bio.Entrez`. "
   ]
  },
  {
   "cell_type": "markdown",
   "id": "76430ea6",
   "metadata": {},
   "source": [
    "### Resumen de funciones de `Bio.Entrez`\n",
    "\n",
    "- **`esearch: `** Buscar IDs en una base de datos.  \n",
    "- **`efetch: `** Descargar información completa (texto, XML, secuencias, metadatos).  \n",
    "- **`esummary: `** Obtener un resumen de un ID (título, organismo, etc.).  \n",
    "- **`elink: `** Encontrar vínculos entre bases de datos (ej. GSE → SRA).  \n",
    "- **`egquery: `** Buscar un término en **todas las bases del NCBI** y ver cuántos resultados hay.  \n",
    "- **`espell: `** Corregir errores ortográficos en la búsqueda.  \n",
    "- **`einfo: `** Ver información de una base de datos (campos, descripción, qué contiene).  \n",
    "- **`read: `** convierte la respuesta de NCBI, en un **objeto de python**(listas, diccionarios, strings, etc.)."
   ]
  },
  {
   "cell_type": "markdown",
   "id": "9d423aae",
   "metadata": {},
   "source": [
    "### 3.1 Preparación: carga de bibliotecas\n",
    "Primero, importaremos la biblioteca **Entrez** de Biopython, que permite conectarse con las bases de datos de NCBI y utilizar funciones como `esearch`, `efetch`, `esummary` y `elink` para explorar y descargar información sobre proyectos, muestras y datos de secuenciación.\n",
    "\n",
    "> **Nota:** Para acceder a las bases de datos de NCBI es necesario proporcionar una **cuenta de correo electrónico** al utilizar Entrez, para que el servidor pueda identificar al usuario."
   ]
  },
  {
   "cell_type": "code",
   "execution_count": 1,
   "id": "7b4422ef",
   "metadata": {},
   "outputs": [],
   "source": [
    "# Cargando el módulo Entrez de la biblioteca biopython y otras bibliotecas necesarias para esta sesión\n",
    "from Bio import Entrez\n",
    "import pandas as pd\n",
    "from io import StringIO\n",
    "import subprocess\n",
    "import os\n",
    "\n",
    "# Proporcionar correo electrónico\n",
    "Entrez.email = 'hectorjl@lcg.unam.mx'\n",
    "\n"
   ]
  },
  {
   "cell_type": "markdown",
   "id": "38bc641c",
   "metadata": {},
   "source": [
    "### 3.2 Obtener el UID de un BioProject\n",
    "\n",
    "En NCBI no es posible acceder a un proyecto únicamente por su nombre, ya que el sistema utiliza un **identificador interno llamado UID (Unique ID)** para cada registro.\n",
    "\n",
    "Por ello, el primer paso consiste en obtener este **UID** utilizando la función `esearch` de Biopython, especificando la base de datos **bioproject**. Con el UID obtenido, podremos consultar toda la información asociada al proyecto.\n"
   ]
  },
  {
   "cell_type": "code",
   "execution_count": 2,
   "id": "227a3e10",
   "metadata": {},
   "outputs": [
    {
     "name": "stdout",
     "output_type": "stream",
     "text": [
      "{'Count': '1', 'RetMax': '1', 'RetStart': '0', 'IdList': ['168994'], 'TranslationSet': [], 'TranslationStack': [{'Term': 'PRJNA168994[All Fields]', 'Field': 'All Fields', 'Count': '1', 'Explode': 'N'}, 'GROUP'], 'QueryTranslation': 'PRJNA168994[All Fields]'}\n"
     ]
    }
   ],
   "source": [
    "# Buscar el UID del BioProject\n",
    "project_acc = \"PRJNA168994\"\n",
    "\n",
    "# Usamos eserch para hacer una consulta y bajarla a una var\n",
    "# Esto abre una busqueda despues hay que cerrarla\n",
    "handle = Entrez.esearch(db='bioproject', term=project_acc)\n",
    "search_results = Entrez.read(handle)\n",
    "\n",
    "# Cerramos la busqueda\n",
    "handle.close()\n",
    "\n",
    "print(search_results)\n"
   ]
  },
  {
   "cell_type": "markdown",
   "id": "128371c1",
   "metadata": {},
   "source": [
    "La consulta **devuelve diversos parámetros** relacionados con los resultados de la búsqueda. A continuación se describen los más importantes:"
   ]
  },
  {
   "cell_type": "markdown",
   "id": "4955b926",
   "metadata": {},
   "source": [
    "| **Campo**            | **Significado** |\n",
    "|-----------------------|-----------------|\n",
    "| **`Count`**          | Número total de resultados encontrados para la búsqueda. |\n",
    "| **`RetMax`**         | Máximo de resultados devueltos en la consulta actual (por defecto 20 si no se especifica). |\n",
    "| **`RetStart`**       | Índice del primer resultado devuelto (sirve para paginar los resultados). |\n",
    "| **`IdList`**         | Lista de identificadores únicos (**UIDs**) de los resultados encontrados. Estos UIDs se usan en `efetch`, `esummary`, etc. |\n",
    "| **`TranslationSet`** | Conjunto de traducciones de términos de búsqueda que hace NCBI (ej. sinónimos o equivalencias). Puede estar vacío. |\n",
    "| **`TranslationStack`** | Muestra paso a paso cómo NCBI interpretó tu búsqueda (ej. en qué campos buscó y cuántos resultados encontró). |\n",
    "| **`QueryTranslation`** | Versión final de la consulta después de ser interpretada por NCBI (puede ser igual a tu búsqueda original o una forma ajustada). |\n"
   ]
  },
  {
   "cell_type": "markdown",
   "id": "b56ee912",
   "metadata": {},
   "source": [
    "Ahora, extraemos únicamente el **UID** del bioproject a partir del resultado de la búsqueda:"
   ]
  },
  {
   "cell_type": "code",
   "execution_count": 4,
   "id": "724cd2d3",
   "metadata": {},
   "outputs": [
    {
     "name": "stdout",
     "output_type": "stream",
     "text": [
      "168994\n"
     ]
    }
   ],
   "source": [
    "# Extraer solo el UID\n",
    "\n",
    "project_uid = search_results['IdList'][0]\n",
    "print(project_uid)"
   ]
  },
  {
   "cell_type": "markdown",
   "id": "3af55227",
   "metadata": {},
   "source": [
    "### 3.3 Resumen del BioProject\n",
    "\n",
    "Con el **UID** obtenido anteriormente, podemos consultar un **resumen del BioProject** usando la función `esummary` de Biopython sobre la base de datos *bioproject*:"
   ]
  },
  {
   "cell_type": "code",
   "execution_count": 5,
   "id": "16f45a6a",
   "metadata": {},
   "outputs": [
    {
     "name": "stdout",
     "output_type": "stream",
     "text": [
      "{'DocumentSummarySet': DictElement({'DocumentSummary': [DictElement({'TaxId': '7227', 'Project_Id': '168994', 'Project_Acc': 'PRJNA168994', 'Project_Type': 'Primary submission', 'Project_Data_Type': 'Transcriptome or Gene expression', 'Sort_By_ProjectType': '886883', 'Sort_By_DataType': '884243', 'Sort_By_Organism': '130116', 'Project_Subtype': '', 'Project_Target_Scope': 'Multiisolate', 'Project_Target_Material': 'Transcriptome', 'Project_Target_Capture': 'Whole', 'Project_MethodType': 'Array', 'Project_Method': '', 'Project_Objectives_List': [{'Project_ObjectivesType': 'Expression', 'Project_Objectives': ''}], 'Registration_Date': '2012/06/20 00:00', 'Project_Name': 'Drosophila melanogaster', 'Project_Title': 'Drosophila melanogaster Transcriptome or Gene expression', 'Project_Description': 'RNA profiling data sets generated by the Drosophila modENCODE project.', 'Keyword': '', 'Relevance_Agricultural': '', 'Relevance_Medical': '', 'Relevance_Industrial': '', 'Relevance_Environmental': '', 'Relevance_Evolution': '', 'Relevance_Model': 'yes', 'Relevance_Other': '', 'Organism_Name': 'Drosophila melanogaster', 'Organism_Strain': '', 'Organism_Label': '', 'Sequencing_Status': 'SRA/Trace', 'Submitter_Organization': 'modENCODE DCC', 'Submitter_Organization_List': ['modENCODE DCC'], 'Supergroup': 'Eukaryotes'}, attributes={'uid': '168994'})], 'DbBuild': 'Build250923-0715.1'}, attributes={'status': 'OK'})}\n"
     ]
    }
   ],
   "source": [
    "# Obtener resumen del BioProject\n",
    "handle = Entrez.esummary(db = 'bioproject', id = project_uid)\n",
    "project_record = Entrez.read(handle)\n",
    "handle.close()\n",
    "print(project_record)\n",
    "\n",
    "\n",
    "\n"
   ]
  },
  {
   "cell_type": "markdown",
   "id": "707b327f",
   "metadata": {},
   "source": [
    "La función `esummary` devuelve un **diccionario** que resume la **información esencial de un BioProject**, incluyendo datos sobre el **organismo**, **tipo** y objetivo del proyecto, **fecha de registro**, estado de secuenciación y más. La siguiente estructura muestra los campos más relevantes obtenidos para el proyecto [**PRJNA168994**](https://www.ncbi.nlm.nih.gov/bioproject/PRJNA168994):"
   ]
  },
  {
   "cell_type": "raw",
   "id": "9cd9bbca",
   "metadata": {
    "vscode": {
     "languageId": "raw"
    }
   },
   "source": [
    "De manera general el resultado de Entrez.esummary(db=\"bioproject\"), se visualiza así:\n",
    "\n",
    "proj_record  (DictElement)\n",
    "│\n",
    "└── \"DocumentSummarySet\"  (DictElement)        <-- contenedor principal\n",
    "     │\n",
    "     ├── \"DbBuild\"        (str)                <-- información general de la base\n",
    "     │\n",
    "     └── \"DocumentSummary\"  (list of DictElement)  <-- lista de proyectos\n",
    "          │\n",
    "          ├── [0]  (DictElement)             <-- primer proyecto (PRJNA168994)\n",
    "          │    ├── \"TaxId\"                   -> Identificador Taxonómico (str)\n",
    "          |    ├── \"Project_Id\"              -> UID (str)\n",
    "          │    ├── \"Project_Acc\"             -> PRJNA168994 (str)\n",
    "          │    ├── \"Project_Type\"            -> tipo general del proyecto ()\n",
    "          │    ├── \"Project_Title\"           -> título del proyecto (str)\n",
    "          │    ├── \"Project_Description\"     -> descripción del proyecto (str)\n",
    "          │    ├── \"Organism_Name\"           -> organismo (str)\n",
    "          │    ├── \"Project_Type\"            -> tipo de proyecto (str)\n",
    "          │    ├── \"Project_Data_Type\"       -> tipo de datos (str)\n",
    "          │    ├── \"Project_Objectives_List\" -> lista de objetivos (list of DictElement)\n",
    "          │    ├── \"Registration_Date\"       -> fecha de registro (str)\n",
    "          │    ├── \"Sequencing_Status\"       -> estado de la secuenciación (str)\n",
    "          │    ├── \"Submitter_Organization\"  -> organización remitente (str)\n",
    "          │    ├── \"Supergroup\"              -> grupo taxonómico superior (str)\n",
    "          │    └── ... otros campos\n",
    "          │\n",
    "          ├── [1]  (DictElement) ...         <-- si buscas varios proyectos\n",
    "          └── [2]  (DictElement) ...\n",
    "\n"
   ]
  },
  {
   "cell_type": "markdown",
   "id": "ce132a7f",
   "metadata": {},
   "source": [
    "#### Accediendo a campos específicos\n",
    "\n",
    "Para acceder a algunos de los campos del BioProject, utilizamos el siguiente código."
   ]
  },
  {
   "cell_type": "code",
   "execution_count": null,
   "id": "fb63d061",
   "metadata": {},
   "outputs": [
    {
     "name": "stdout",
     "output_type": "stream",
     "text": [
      "dict_keys(['TaxId', 'Project_Id', 'Project_Acc', 'Project_Type', 'Project_Data_Type', 'Sort_By_ProjectType', 'Sort_By_DataType', 'Sort_By_Organism', 'Project_Subtype', 'Project_Target_Scope', 'Project_Target_Material', 'Project_Target_Capture', 'Project_MethodType', 'Project_Method', 'Project_Objectives_List', 'Registration_Date', 'Project_Name', 'Project_Title', 'Project_Description', 'Keyword', 'Relevance_Agricultural', 'Relevance_Medical', 'Relevance_Industrial', 'Relevance_Environmental', 'Relevance_Evolution', 'Relevance_Model', 'Relevance_Other', 'Organism_Name', 'Organism_Strain', 'Organism_Label', 'Sequencing_Status', 'Submitter_Organization', 'Submitter_Organization_List', 'Supergroup'])\n",
      "\n",
      "=== Información del BioProject ===\n",
      "Accession: PRJNA168994\n",
      "Organism: Drosophila melanogaster\n",
      "Description: RNA profiling data sets generated by the Drosophila modENCODE project.\n"
     ]
    }
   ],
   "source": [
    "# Seleccionando la información relacionada al proyecto\n",
    "proj = project_record['DocumentSummarySet']['DocumentSummary'][0]\n",
    "\n",
    "\n",
    "# Mostrando todos los campos del diccionario\n",
    "# print(proj.keys())\n",
    "\n",
    "\n",
    "\n",
    "# Accediendo a algunos campos\n",
    "print(\"\\n=== Información del BioProject ===\")\n",
    "print(f\"Accession: {proj['Project_Acc']}\")\n",
    "print(f\"Organism: {proj['Organism_Name']}\")\n",
    "print(f\"Description: {proj['Project_Description']}\")\n",
    "\n",
    "\n",
    "\n"
   ]
  },
  {
   "cell_type": "markdown",
   "id": "4fe6cb1d",
   "metadata": {},
   "source": [
    "### 3.4 Relacionando BioProject con GEO (GSE/GSM)\n",
    "\n",
    "Un BioProject puede estar vinculado a varias bases de datos, como **SRA (SRR/SRX), GEO (GSE/GSM) o BioSample (SRS)**. Con la función `elink` podemos consultar estas relaciones:"
   ]
  },
  {
   "cell_type": "code",
   "execution_count": 19,
   "id": "27dc9e53",
   "metadata": {},
   "outputs": [
    {
     "name": "stdout",
     "output_type": "stream",
     "text": [
      "[{'LinkSetDb': [{'Link': [{'Id': '200040045'}, {'Id': '200040043'}, {'Id': '200040042'}, {'Id': '200040040'}, {'Id': '200040039'}, {'Id': '200040038'}, {'Id': '200040036'}, {'Id': '200040034'}, {'Id': '200040016'}, {'Id': '200040015'}, {'Id': '200037756'}, {'Id': '200037440'}, {'Id': '200037439'}, {'Id': '200037438'}, {'Id': '200037437'}, {'Id': '200037436'}, {'Id': '200037435'}, {'Id': '200037434'}, {'Id': '200037300'}, {'Id': '200037299'}, {'Id': '200037297'}, {'Id': '200037293'}, {'Id': '200037292'}, {'Id': '200037291'}, {'Id': '200025570'}, {'Id': '200025392'}, {'Id': '200025390'}, {'Id': '200025387'}, {'Id': '200025348'}, {'Id': '200025347'}, {'Id': '200024608'}, {'Id': '200024607'}, {'Id': '200024605'}, {'Id': '200024604'}, {'Id': '200024545'}, {'Id': '200024544'}, {'Id': '200024543'}, {'Id': '200024542'}, {'Id': '200024541'}, {'Id': '200024540'}, {'Id': '200024539'}, {'Id': '200024317'}, {'Id': '200024316'}, {'Id': '200024315'}, {'Id': '200024314'}, {'Id': '200024313'}, {'Id': '200024312'}, {'Id': '200024311'}, {'Id': '200024310'}, {'Id': '200024309'}, {'Id': '200024308'}, {'Id': '200024307'}, {'Id': '200024306'}, {'Id': '200024305'}, {'Id': '200024304'}, {'Id': '200024303'}, {'Id': '200024302'}, {'Id': '200024301'}, {'Id': '200024300'}, {'Id': '200024299'}, {'Id': '200024298'}, {'Id': '200023235'}, {'Id': '200023234'}, {'Id': '200023233'}, {'Id': '200023232'}, {'Id': '200023231'}, {'Id': '200023230'}, {'Id': '200023229'}, {'Id': '200023228'}, {'Id': '200023227'}, {'Id': '200023226'}, {'Id': '200023225'}, {'Id': '200023224'}, {'Id': '200023223'}, {'Id': '200023222'}, {'Id': '200023221'}, {'Id': '200023220'}, {'Id': '200023219'}, {'Id': '200020348'}, {'Id': '200018508'}, {'Id': '200018068'}, {'Id': '200017621'}, {'Id': '200017107'}, {'Id': '200016330'}, {'Id': '200016329'}, {'Id': '200016328'}, {'Id': '200016327'}, {'Id': '200016326'}, {'Id': '200016325'}, {'Id': '200016324'}, {'Id': '200016323'}, {'Id': '200016322'}, {'Id': '200016321'}, {'Id': '200016320'}, {'Id': '200016319'}, {'Id': '200016318'}, {'Id': '200016317'}, {'Id': '200016316'}, {'Id': '200016315'}, {'Id': '200016314'}, {'Id': '200016313'}, {'Id': '200016312'}, {'Id': '200016311'}, {'Id': '200016310'}, {'Id': '200016309'}, {'Id': '200016308'}, {'Id': '200016307'}, {'Id': '200016306'}, {'Id': '200016305'}, {'Id': '200016304'}, {'Id': '200016303'}, {'Id': '200016302'}, {'Id': '200016301'}, {'Id': '200016300'}, {'Id': '200016299'}, {'Id': '200016298'}, {'Id': '200016297'}, {'Id': '200016296'}, {'Id': '200016295'}, {'Id': '200016294'}, {'Id': '200016293'}, {'Id': '200016292'}, {'Id': '200016291'}, {'Id': '200016290'}, {'Id': '200016289'}, {'Id': '200016288'}, {'Id': '200016287'}, {'Id': '200016286'}, {'Id': '200016285'}, {'Id': '200016284'}, {'Id': '200016283'}, {'Id': '200016282'}, {'Id': '200016281'}, {'Id': '200016280'}, {'Id': '200016279'}, {'Id': '200016278'}, {'Id': '200016277'}, {'Id': '200016276'}, {'Id': '200016275'}, {'Id': '200016274'}, {'Id': '200016273'}, {'Id': '200016272'}, {'Id': '200016271'}, {'Id': '200016270'}, {'Id': '200016269'}, {'Id': '200015899'}, {'Id': '200015898'}, {'Id': '200015897'}, {'Id': '200015596'}, {'Id': '200015378'}, {'Id': '200014849'}, {'Id': '200014488'}, {'Id': '200013679'}, {'Id': '200013441'}, {'Id': '200012840'}, {'Id': '200010790'}], 'DbTo': 'gds', 'LinkName': 'bioproject_gds'}], 'ERROR': [], 'LinkSetDbHistory': [], 'DbFrom': 'bioproject', 'IdList': ['168994']}]\n",
      "Se han encontrado 156 Geo Ids, primeros 5: ['200040045', '200040043', '200040042', '200040040', '200040039']\n"
     ]
    }
   ],
   "source": [
    "# Revisar enlaces desde BioProject hacia GEO (GDS), con el uid del bioproject\n",
    "handle = Entrez.elink(dbfrom = 'bioproject', db = 'gds', id = project_uid)\n",
    "links_bioproject = Entrez.read(handle)\n",
    "\n",
    "# Closing\n",
    "handle.close()\n",
    "\n",
    "print(links_bioproject)\n",
    "\n",
    "geo_ids = [link['Id'] for link in links_bioproject[0]['LinkSetDb'][0]['Link']]\n",
    "print(f'Se han encontrado {len(geo_ids)} Geo Ids, primeros 5: {geo_ids[:5]}')"
   ]
  },
  {
   "cell_type": "markdown",
   "id": "376ca390",
   "metadata": {},
   "source": [
    "> Nota: Cada BioProject genera un *LinkSet*, y \"LinkSetDb\" contiene los **UIDs** asociados en la base consultada. En este ejemplo exploramos un único BioProject, pero se pueden consultar **varios proyectos simultaneamente**, obteniendo un *LinkSet* por cada uno. En nuestro caso, el proyecto [**PRJNA168994**](https://www.ncbi.nlm.nih.gov/bioproject/PRJNA168994) está vinculado **156 GEO Series (GSE)**, cada una representando un estudio completo."
   ]
  },
  {
   "cell_type": "markdown",
   "id": "edc7f2b9",
   "metadata": {},
   "source": [
    "### 3.5 Resumen de un GSE y sus muestras (GSM)\n",
    "\n",
    "Para obtener detalles de un **GSE**, usamos nuevamente `esummary`"
   ]
  },
  {
   "cell_type": "code",
   "execution_count": null,
   "id": "ff285239",
   "metadata": {},
   "outputs": [],
   "source": [
    "# Verificando la información de GEO\n",
    "# ejemplo, segundo UID\n",
    "\n",
    "\n"
   ]
  },
  {
   "cell_type": "markdown",
   "id": "ee4a9caa",
   "metadata": {},
   "source": [
    "Al ejecutar `esummary` sobre un **UID** de GEO (**GSE**), obtenemos un **diccionario** con múltiples campos que describen el experimento. Entre la información más relevante se encuentran:  \n",
    "\n",
    "- **Accession**: identificador tipo GSE  \n",
    "- **title**: título del estudio  \n",
    "- **summary**: descripción general del experimento  \n",
    "- **organisms** estudiados  \n",
    "- **Samples**: lista de muestras asociadas (**GSM**)  \n",
    "- **Publicación**: fecha de publicación  \n",
    "- **Plataforma tecnológica** utilizada  \n",
    "\n",
    "Estos campos permiten comprender rápidamente el alcance y los objetivos del experimento sin necesidad de explorar los registros individuales de cada muestra (GSM).\n",
    "\n"
   ]
  },
  {
   "cell_type": "markdown",
   "id": "4b4b264a",
   "metadata": {},
   "source": [
    "#### Impresión de campos clave de un GSE"
   ]
  },
  {
   "cell_type": "code",
   "execution_count": null,
   "id": "ddb8c0b6",
   "metadata": {},
   "outputs": [],
   "source": [
    "# imprimiendo los campos\n",
    "geo_record=summary[0]\n",
    "print(\"=== GEO Accession ===\")\n",
    "print(\"Accession:\", geo_record.get(\"Accession\"))\n",
    "print(\"Tipo:\", geo_record.get(\"entryType\"))\n",
    "print(\"Título:\", geo_record.get(\"title\"))\n",
    "print(\"Resumen:\", geo_record.get(\"summary\"))\n",
    "print(\"Organismo:\", geo_record.get(\"taxon\"))\n",
    "print(\"Número de muestras:\", geo_record.get(\"n_samples\"))\n",
    "print(\"PubMed IDs:\", geo_record.get(\"PubMedIds\"))\n",
    "print(\"Enlace FTP:\", geo_record.get(\"FTPLink\"))\n",
    "print(\"Archivos suplementarios:\", geo_record.get(\"suppFile\"))\n",
    "print(\"Proyectos: \",geo_record.get(\"Projects\"))\n",
    "\n",
    "# Muestras asociadas\n",
    "print(\"\\n=== Muestras ===\")\n",
    "for sample in geo_record.get(\"Samples\",[]):\n",
    "    print(sample['Accession'],\":\",sample['Title'])"
   ]
  },
  {
   "cell_type": "markdown",
   "id": "3b9bdb23",
   "metadata": {},
   "source": [
    "### 3.6 Obtener SRR asociados a un GSM\n",
    "\n",
    "Recordemos que para nuestro proyecto, nos enfocaremos en las muestras **GSM461176** a **GSM461182**, cada una con metadatos y enlaces a archivos de secuencias (SRR) disponibles en SRA. De manera particular trabajaremos con la muestra **GSM461177**\n",
    "\n",
    "El primer paso es obtener el **UID** interno de NCBI de la muestra:"
   ]
  },
  {
   "cell_type": "code",
   "execution_count": null,
   "id": "7551d29e",
   "metadata": {},
   "outputs": [],
   "source": [
    "# Obtener el UID correspondiente a la muestra\n",
    "gsm_id = \"GSM461177\"\n",
    "\n",
    "\n",
    "\n"
   ]
  },
  {
   "cell_type": "markdown",
   "id": "decf64a2",
   "metadata": {},
   "source": [
    "La respuesta incluye campos como **Count**, **IdList**, **RetMax**, etc, que ya fueron descritos anteriormente [sección 3.2](3.2 Obtener el **UID** de un BioProject). El **UID** de la muestra se encuentra en **IdList**. es importante mencionar que si no hay un **UID**, asociado el parámetro **IdList** será vacío."
   ]
  },
  {
   "cell_type": "code",
   "execution_count": null,
   "id": "e5ef3e0b",
   "metadata": {},
   "outputs": [],
   "source": [
    "# Consultar si existe el identificador\n",
    "\n",
    "\n",
    "\n",
    "# Obtener la información de la corrida como texto\n",
    "\n",
    "\n",
    "\n",
    "# Cargar en pandas el resultado, directamente desde la cadena\n",
    "\n",
    "\n",
    "\n"
   ]
  },
  {
   "cell_type": "markdown",
   "id": "b1a95e71",
   "metadata": {},
   "source": [
    "## 4. Descarga de datos con SRA Toolkit\n",
    "\n",
    "El **SRA Toolkit** ([sra-tools](https://github.com/ncbi/sra-tools)) es un conjunto de programas creados por el **NCBI** para descargar y manejar datos de secuenciación masiva almacenados en el [**SRA (Sequence Read Archive)**](https://www.ncbi.nlm.nih.gov/sra).  \n",
    "Este toolkit incluye **diversas funciones** que permiten explorar, validar, convertir y descargar datos.\n",
    "\n",
    "En este curso nos enfocaremos únicamente en las funciones **de descarga y conversión**, necesarias para obtener las secuencias en formato FASTQ para nuestro análisis. No obstante, el *toolkit* cuenta con otras utilidades que pueden consultarse en la [documentación oficial](https://github.com/ncbi/sra-tools) o ejecutando `--help` en cualquier comando.\n",
    "\n",
    "\n",
    "**Funiones de descarga y conversión**\n",
    "\n",
    "- **prefetch**: descarga los archivos SRR completos desde el servidor del SRA hacia tu disco local.  \n",
    "- **fastq-dump / fasterq-dump**: extrae las secuencias en formato **FASTQ** desde los archivos SRR descargados. Permite separar lecturas pareadas (`--split-files`) y comprimir los resultados (`--gzip`).  \n",
    "\n",
    "Con esto, podemos explorar los **SRR** asociados a cada muestra, conocer la plataforma, el tipo de librería y otros **metadatos** relevantes para análisis de RNA-Seq."
   ]
  },
  {
   "cell_type": "markdown",
   "id": "c5c8133e",
   "metadata": {},
   "source": [
    "### 4.1 Ejecución de sra-tools desde python\n",
    "\n",
    "Las herramientas de **SRA Toolkit** se ejecutan normalmente **desde la línea de comandos** en una terminal. Como no forman parte de Python ni de Biopython, para integrarlas dentro de un *script* usamos la biblioteca estándar **`subprocess`**, que permite **ejecutar programas externos** y capturar su salida. Esto facilita **automatizar la descarga y conversión** de múltiples archivos SRR en un flujo de análisis reproducible.\n",
    "\n"
   ]
  },
  {
   "cell_type": "markdown",
   "id": "5873b2c9",
   "metadata": {},
   "source": [
    "| Función                     | Descripción                                            | Parámetros clave                                   | Ejemplo                                                                                                      |\n",
    "| --------------------------- | ------------------------------------------------------ | -------------------------------------------------- | ------------------------------------------------------------------------------------------------------------ |\n",
    "| `subprocess.run()`          | Ejecuta un comando externo y espera a que termine      | `args`, `check`, `stdout`, `stderr`, `cwd`, `text` | `subprocess.run([\"ls\",\"-l\"], check=True, stdout=subprocess.PIPE, text=True)`                                 |\n",
    "| `subprocess.Popen()`        | Ejecuta un proceso y permite interactuar con él        | `stdin`, `stdout`, `stderr`, `text`, `cwd`         | `p = subprocess.Popen([\"echo\",\"Hola\"], stdout=subprocess.PIPE, text=True); output, errors = p.communicate()` |\n",
    "| `subprocess.call()`         | Ejecuta un comando y devuelve solo el código de salida | `args`, `cwd`                                      | `ret_code = subprocess.call([\"ls\",\"-l\"])`                                                                    |\n",
    "| `subprocess.check_output()` | Ejecuta un comando y devuelve la salida como string    | `args`, `stderr`, `text`                           | `output = subprocess.check_output([\"ls\",\"-l\"], text=True)`                                                   |"
   ]
  },
  {
   "cell_type": "markdown",
   "id": "bf3b58f4",
   "metadata": {},
   "source": [
    "A continuación utilizaremos estas herramientas para la descarga de los archivos **SRR031714** y **SRR031715**, en un directorio específico."
   ]
  },
  {
   "cell_type": "code",
   "execution_count": null,
   "id": "9baedf4d",
   "metadata": {},
   "outputs": [],
   "source": [
    "# Crear la ruta del directorio de entrada y salida de datos\n",
    "\n",
    "\n",
    "\n",
    "# Hacer el prefetch de los archivos srr\n",
    "\n",
    "\n",
    "\n"
   ]
  },
  {
   "cell_type": "markdown",
   "id": "a6104773",
   "metadata": {},
   "source": [
    "En este fragmento de código definimos primero el directorio donde se guardarán los datos (`output_dir`). Luego utilizamos la función `subprocess.run()` para ejecutar el comando `prefetch` del **SRA Toolkit**, indicando el identificador de cada archivo (**SRR031714** y **SRR031715**) junto con la opción `--output-directory`, que especifica la ruta de destino. La opción `check=True` asegura que, si ocurre un error en la ejecución del comando, Python detenga el script y muestre el error.\n"
   ]
  },
  {
   "cell_type": "markdown",
   "id": "a07cedc7",
   "metadata": {},
   "source": [
    "Una vez descargados los archivos **SRR**, el siguiente paso es convertirlos al formato **FASTQ**, que es el estándar para trabajar con secuencias crudas. El siguiente código realiza la conversión para los archivos **SRR031714** y **SRR031715**, utilizando la instrucción `fastq-dump`."
   ]
  },
  {
   "cell_type": "code",
   "execution_count": null,
   "id": "bd0625da",
   "metadata": {},
   "outputs": [],
   "source": [
    "# Obtener las secuencias en formato fastq\n",
    "\n",
    "\n",
    "\n",
    "\n"
   ]
  },
  {
   "cell_type": "markdown",
   "id": "41e31237",
   "metadata": {},
   "source": [
    "En este caso las opciones empleadas en el `fastq-dump`, permiten:\n",
    "\n",
    "- `-O`: especifica el directorio de salida donde se guardarán los archivos FASTQ.  \n",
    "- `--split-files`: separa las lecturas si se trata de datos pareados (paired-end).  \n",
    "- `--gzip`: comprime automáticamente los archivos FASTQ resultantes en formato `.gz`. "
   ]
  },
  {
   "cell_type": "markdown",
   "id": "2cc28371",
   "metadata": {},
   "source": [
    "Recordemos que la muestra **GSM461177** está representada por **dos archivos SRR(SRR031714 y SRR031715)**. En este caso, es necesario **concatenar** las lecturas *forward* (R1) y las lecturas *reverse* (R2) en dos archivos únicos que representen la muestra completa. El siguiente código muestra cómo realizar este proceso desde Python utilizando `subprocess`\n",
    "\n",
    "> Nota: usamos zcat + gzip porque los archivos están comprimidos en formato .gz."
   ]
  },
  {
   "cell_type": "code",
   "execution_count": null,
   "id": "6a5b26db",
   "metadata": {},
   "outputs": [],
   "source": [
    "# Creando lista con nombres de archivos a concatenar\n",
    "\n",
    "\n",
    "\n",
    "\n",
    "# Creando los nombres de archivos de salida\n",
    "\n",
    "\n",
    "\n",
    "# Concatenar los archivos R1\n",
    "# Abrir el archivo de salida para escribir\n",
    "\n",
    "\n",
    "# Ejecuta el comando zcat file1 file2, su salida (stdout) se envía a un PIPE en lugar de a la terminal.\n",
    "\n",
    "    \n",
    "# Lanza el proceso gzip. Su entrada (stdin) se conecta al stdout de p1 y su salida (stdout) se guarda directamente en el archivo fout.\n",
    "\n",
    "    \n",
    "# Se cierra el canal de salida de p1 para evitar bloqueos. Esto indica que no habrá más datos enviados a gzip.\n",
    "\n",
    "    \n",
    "# Espera a que gzip termine y asegura que toda la información se haya escrito correctamente en el archivo final.\n",
    " \n",
    "\n",
    "\n",
    "# Concatenar R2\n",
    "\n"
   ]
  },
  {
   "cell_type": "markdown",
   "id": "e7de0921",
   "metadata": {},
   "source": [
    "En este flujo, usamos `subprocess.Popen` junto con un **PIPE** porque necesitamos **conectar dos procesos**: primero descomprimir los archivos con `zcat`, para concatenarlos y luego recomprimirlos con `gzip`. A diferencia de `subprocess.run()`, que solo ejecuta un comando y espera a que termine, `Popen` permite manejar la **entrada y salida entre procesos en tiempo real**, lo que resulta esencial para concatenar archivos comprimidos sin generar archivos intermedios.\n",
    "\n",
    "En este caso, el primer `subprocess.Popen` ejecuta la instrucción `zcat` y envía su salida a un **PIPE**, la cual será utilizada, como entrada, por el segundo `subprocess.Popen`, que ejecuta el comando `gzip` y cuyo resultado se guarda en el archivo `fout`.\n",
    "\n"
   ]
  },
  {
   "cell_type": "markdown",
   "id": "bb1c4c4f",
   "metadata": {},
   "source": [
    "## 5. Descarga del genoma de referencia\n",
    "\n",
    "### 5.1 Consultando la información relacionada al genoma de referencia\n",
    "\n",
    "Una vez descargadas las secuencias asociadas al proyecto, es necesario obtener el **genoma de referencia**, que se utilizará para mapear las lecturas de RNA-Seq y realizar posteriormente el análisis de expresión diferencial.\n",
    "\n",
    "Para ello, utilizaremos la base de datos `assembly` de NCBI, consultando los genomas completos asociados a ***Drosophila melanogaster*** a través del módulo **Entrez** de Biopython."
   ]
  },
  {
   "cell_type": "code",
   "execution_count": null,
   "id": "97d0516e",
   "metadata": {},
   "outputs": [],
   "source": [
    "# Asignando el organismo\n",
    "organism = \"drosophila melanogaster\"\n",
    "\n",
    "# Consultando la base de datos assembly\n",
    "\n",
    "\n",
    "\n",
    "# Imprimiendo los IDs\n",
    "\n",
    "\n",
    "\n"
   ]
  },
  {
   "cell_type": "markdown",
   "id": "aab58293",
   "metadata": {},
   "source": [
    "La consulta devuelve diversos parametros, como ya lo hemos visto en secciones anteriores. Los **UIDs de los ensamblajes** asociados al organismo consultado se encuentran en el parámetro **IdList** y se utilizarán para obtener información detallada de cada genoma en la base de datos `assembly`."
   ]
  },
  {
   "cell_type": "code",
   "execution_count": null,
   "id": "bd6cded3",
   "metadata": {},
   "outputs": [],
   "source": [
    "# Para cada UID obtener la información\n",
    "assembly_data = []\n",
    "\n",
    "   \n",
    "# Guardamos todo el diccionario\n",
    "  \n",
    "    \n"
   ]
  },
  {
   "cell_type": "markdown",
   "id": "f5d9946d",
   "metadata": {},
   "source": [
    "Una vez obtenida la información de cada genoma, la organizaremos en un DataFrame de pandas, lo que facilitará su manejo y exploración. En este sentido, primero podemos visualizar todas las columnas disponibles en el DataFrame y, posteriormente, seleccionar únicamente aquellas que resulten de interés."
   ]
  },
  {
   "cell_type": "code",
   "execution_count": null,
   "id": "154aa899",
   "metadata": {},
   "outputs": [],
   "source": [
    "# Crear DataFrame con toda la información\n",
    "\n",
    "\n",
    "\n",
    "\n",
    "# Mostrar todas las columnas disponibles\n",
    "\n",
    "\n"
   ]
  },
  {
   "cell_type": "markdown",
   "id": "87650e7c",
   "metadata": {},
   "source": [
    "En este caso, seleccionaremos las columnas **Organism**, **AssemblyName**, **AssemblyStatus**, **AssemblyAccession**, **RefSeq_category** y **FtpPath_GenBank**. Estas nos permitirán obtener información relevante del genoma para su posterior descarga, como su **estatus** (nivel de ensamblaje), el **identificador del ensamblaje** y la **ruta de descarga** correspondiente."
   ]
  },
  {
   "cell_type": "code",
   "execution_count": null,
   "id": "2bd856e9",
   "metadata": {},
   "outputs": [],
   "source": [
    "# Seleccionar solo algunas columnas de interés\n",
    "df_selected = df_assembly[[\n",
    "    \"Organism\",\n",
    "    \"AssemblyName\",\n",
    "    \"AssemblyStatus\",\n",
    "    \"AssemblyAccession\",\n",
    "    \"RefSeq_category\",\n",
    "    \"FtpPath_GenBank\"\n",
    "]]\n",
    "\n",
    "# Mostrar los primeros 10 renglones del dataframe\n",
    "\n",
    "\n",
    "\n",
    "# Filtrar filas que coincidan exactamente con el accession\n",
    "\n",
    "\n",
    "# Mostrar resultado\n",
    "\n",
    "\n"
   ]
  },
  {
   "cell_type": "markdown",
   "id": "747316f5",
   "metadata": {},
   "source": [
    "### 5.2 Descarga de la referencia\n",
    "\n",
    "Antes de descargar los archivos del genoma, primero exploraremos **qué información está disponible** en el directorio del ensamblaje seleccionado. Esto nos permitirá identificar los archivos de interés, como la secuencia en formato **FASTA** y la anotación en **GFF**, y asegurarnos de que existan en el servidor de NCBI.  \n",
    "\n",
    "A continuación, se muestra cómo obtener la lista de archivos disponibles en el directorio FTP correspondiente al genoma de referencia elegido, utilizando la biblioteca `ftplib` y `urllib` de Python:"
   ]
  },
  {
   "cell_type": "code",
   "execution_count": null,
   "id": "63fc50b7",
   "metadata": {},
   "outputs": [],
   "source": [
    "# cargando las bibliotecas \n",
    "from ftplib import FTP\n",
    "from urllib.parse import urlparse\n",
    "\n",
    "# Seleccionando el path de ftp del genoma de referencia\n",
    "ftp_url = df_selected.iloc[1][\"FtpPath_GenBank\"]\n",
    "\n",
    "# Obteniendo la información del url\n",
    "parsed = urlparse(ftp_url)\n",
    "\n",
    "# Asignando el hostname y el path\n",
    "ftp_server = parsed.hostname        # 'ftp.ncbi.nlm.nih.gov'\n",
    "ftp_path = parsed.path              # '/genomes/all/GCA/038/396/815/GCA_038396815.1_Drosophila_melanogaster_ANU-1/'\n",
    "\n",
    "print(\"Servidor FTP:\", ftp_server)\n",
    "print(\"Ruta en el servidor:\", ftp_path)\n",
    "\n",
    "# Haciendo la conexión al servidor de forma anónima y moviendose al path del genoma\n",
    "ftp = FTP(ftp_server)\n",
    "ftp.login()  # conexión anónima\n",
    "ftp.cwd(ftp_path)\n",
    "\n",
    "# Obteniendo la lista de archivos contenidos en el path\n",
    "files = ftp.nlst()  # lista de archivos en el directorio\n",
    "\n",
    "# Cerrando la conexión ftp\n",
    "ftp.quit()\n",
    "\n",
    "# Imprimiendo la lista de archivos\n",
    "print(\"Archivos disponibles:\")\n",
    "for f in files:\n",
    "    print(f)"
   ]
  },
  {
   "cell_type": "markdown",
   "id": "3ab7053c",
   "metadata": {},
   "source": [
    "Una vez que tenemos la **lista de archivos disponibles**, podemos proceder a descargar los archivos de secuencias (**FASTA**) y de anotación (**GFF**), siempre que existan en el directorio del ensamblaje seleccionado. Esto nos asegura que trabajaremos con la versión correcta del genoma y sus anotaciones asociadas, evitando errores por rutas o archivos inexistentes.\n",
    "\n",
    "Primero, filtramos los archivos de interés:\n"
   ]
  },
  {
   "cell_type": "code",
   "execution_count": null,
   "id": "6231ada2",
   "metadata": {},
   "outputs": [],
   "source": [
    "# Obtener archivos FASTA y GFF\n",
    "\n",
    "\n",
    "\n",
    "\n"
   ]
  },
  {
   "cell_type": "markdown",
   "id": "012c31bd",
   "metadata": {},
   "source": [
    "A partir de estos resultados, descargamos los archivos usando `urllib`:"
   ]
  },
  {
   "cell_type": "code",
   "execution_count": null,
   "id": "a62d8736",
   "metadata": {},
   "outputs": [],
   "source": [
    "import urllib.request\n",
    "\n",
    "if fasta_files or gff_files:\n",
    "    # Carpeta donde guardaremos\n",
    "    out_dir = output_dir + \"/genome\"\n",
    "    os.makedirs(out_dir, exist_ok=True)\n",
    "    # Descarga de archivo FASTA\n",
    "    if fasta_files:\n",
    "        # Obtener el nombre base del ensamblaje (ej. GCA_000001215.4_Drosophila_melanogaster...)\n",
    "        fasta_url = ftp_url + \"/\" + fasta_files[0]\n",
    "        print(\"FASTA:\", fasta_url)\n",
    "        # Archivo de salida\n",
    "        fasta_out = os.path.join(out_dir, fasta_files[0])\n",
    "        # Descargar FASTA\n",
    "        #urllib.request.urlretrieve(fasta_url, fasta_out)\n",
    "        print(\"Genoma descargado en:\", fasta_out)\n",
    "    # Descarga de archivo GFF    \n",
    "    if gff_files:\n",
    "        gff_url = ftp_url + \"/\" + gff_files[0]\n",
    "        print(\"GFF:\", gff_url)\n",
    "        # Archivo de salida\n",
    "        gff_out = os.path.join(out_dir,gff_files[0])\n",
    "        # 4. Descargamos el GFF\n",
    "        #urllib.request.urlretrieve(gff_url, gff_out)\n",
    "        print(\"Archivo GFF descargado en:\", gff_out)\n"
   ]
  },
  {
   "cell_type": "markdown",
   "id": "ade43c6b",
   "metadata": {},
   "source": [
    "Este enfoque garantiza que solo se descarguen los archivos que efectivamente existen en el directorio del ensamblaje."
   ]
  },
  {
   "cell_type": "markdown",
   "id": "129f22c6",
   "metadata": {},
   "source": [
    "## 6. Puntos claves\n",
    "\n",
    "En esta clase aprendimos a explorar y descargar datos de RNA-Seq y genomas de referencia usando **Biopython** y **SRA Toolkit**. Los puntos principales son:\n",
    "\n",
    "- **Exploración de datos con Biopython:**  \n",
    "  Podemos buscar proyectos (**BioProject**), estudios (**GEO / GSE**) y muestras (**GSM / SRR**) en NCBI, y ver información como título del estudio, organismo y número de muestras.\n",
    "\n",
    "- **Jerarquía de información:**  \n",
    "  La información sigue un orden:  \n",
    "  `BioProject → BioSample → SRA / GEO (GSE → GSM)`  \n",
    "  Esto nos ayuda a ubicar rápidamente las muestras que necesitamos.\n",
    "\n",
    "- **Descarga de secuencias con SRA Toolkit:**  \n",
    "  - `prefetch` descarga los archivos SRR completos.  \n",
    "  - `fastq-dump` convierte esos archivos a **FASTQ**, listos para análisis.  \n",
    "  - Si una muestra tiene más de un archivo SRR, debemos **concatenar** las lecturas *forward* (R1) y *reverse* (R2) para tener un archivo final por muestra.\n",
    "\n",
    "- **Descarga del genoma de referencia:**  \n",
    "  - Buscamos ensamblajes completos en la base `assembly` de Entrez y elegimos la versión de referencia.  \n",
    "  - Obtenemos la ruta **FTP** de los archivos **FASTA** (secuencias) y **GFF** (anotaciones).  \n",
    "  - Con **FTP** y `urllib` en Python, descargamos los archivos a nuestra computadora, asegurándonos de trabajar con la versión correcta del genoma.\n",
    "\n",
    "> En resumen, aprendimos a ir **desde la búsqueda de datos en NCBI hasta tener las secuencias y genomas listos** para análisis de expresión génica, todo de manera automatizada y reproducible."
   ]
  },
  {
   "cell_type": "markdown",
   "id": "ff0f07c7-35c5-45ba-b7e9-8f1b2b3a70dc",
   "metadata": {},
   "source": [
    "## 7. Ejercicio propuesto\n",
    "\n",
    "Generar un *pipeline* que, dado un proyecto **PRJNAXXXX**, realice las siguientes tareas:  \n",
    "\n",
    "1. Consultar y desplegar la información general del proyecto.  \n",
    "2. Mostrar las bases de datos con las que está asociado (por ejemplo, GEO).  \n",
    "3. Recuperar y presentar la información general de las muestras relacionadas.  \n",
    "4. Descargar las secuencias correspondientes a cada muestra.  \n",
    "   - En caso de que una muestra tenga más de un archivo de secuencias, concatenarlos, considerando si se trata de archivos *paired-end* o *single-read*.  \n",
    "5. Consultar y mostrar la información del genoma de referencia, si está disponible.  \n",
    "\n",
    "---\n",
    "\n",
    "### Requisitos del pipeline  \n",
    "\n",
    "- Debe ser **modular**, con funciones independientes para cada tarea.  \n",
    "- Debe incluir **validaciones** en cada etapa:  \n",
    "  - Verificar accesos válidos al BioProject y a las bases de datos asociadas.  \n",
    "  - Confirmar la existencia de archivos antes de descargarlos o concatenarlos.  \n",
    "  - Comprobar que los formatos sean correctos (FASTQ, referencia en FASTA, etc.).  \n",
    "- Las tareas deben **optimizarse** mediante:  \n",
    "  - **Ciclos** para procesar múltiples muestras de manera eficiente.  \n",
    "  - **Decisiones condicionales** para diferenciar entre archivos *paired-end* y *single-read*.  \n",
    "  - **Uso de scripts externos en Bash** cuando sea más eficiente que manejar procesos con `subprocess.PIPE`.  \n",
    "    - Ejemplo: descarga masiva con `prefetch` o `fasterq-dump`, o concatenación de archivos con `cat`.  \n",
    "\n",
    "---\n",
    "\n",
    "**Nota:** La estructura debe facilitar la reutilización en distintos proyectos, garantizando claridad, escalabilidad y eficiencia.  "
   ]
  },
  {
   "cell_type": "markdown",
   "id": "bfe7e450",
   "metadata": {},
   "source": [
    "# Referencias\n",
    "\n",
    "+ Brooks AN, Yang L, Duff MO, Hansen KD, Park JW, Dudoit S, Brenner SE, Graveley BR. Conservation of an RNA regulatory map between Drosophila and mammals. Genome Res. 2011 Feb;21(2):193-202. doi: 10.1101/gr.108662.110. Epub 2010 Oct 4. PMID: 20921232; PMCID: PMC3032923."
   ]
  }
 ],
 "metadata": {
  "kernelspec": {
   "display_name": "Python 3",
   "language": "python",
   "name": "python3"
  },
  "language_info": {
   "codemirror_mode": {
    "name": "ipython",
    "version": 3
   },
   "file_extension": ".py",
   "mimetype": "text/x-python",
   "name": "python",
   "nbconvert_exporter": "python",
   "pygments_lexer": "ipython3",
   "version": "3.11.9"
  }
 },
 "nbformat": 4,
 "nbformat_minor": 5
}

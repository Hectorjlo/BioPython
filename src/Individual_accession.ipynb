{
 "cells": [
  {
   "cell_type": "markdown",
   "id": "a760c5de",
   "metadata": {},
   "source": [
    "## Individual accession for SRRs and download the files needed for the project\n",
    "This file is meant to practice and take notes of the process of getting the desiered result in the further proyect"
   ]
  },
  {
   "cell_type": "markdown",
   "id": "fea1a2ce",
   "metadata": {},
   "source": [
    "Start up checking of Bio Entrez"
   ]
  }
 ],
 "metadata": {
  "kernelspec": {
   "display_name": "Python 3",
   "language": "python",
   "name": "python3"
  },
  "language_info": {
   "codemirror_mode": {
    "name": "ipython",
    "version": 3
   },
   "file_extension": ".py",
   "mimetype": "text/x-python",
   "name": "python",
   "nbconvert_exporter": "python",
   "pygments_lexer": "ipython3",
   "version": "3.10.11"
  }
 },
 "nbformat": 4,
 "nbformat_minor": 5
}

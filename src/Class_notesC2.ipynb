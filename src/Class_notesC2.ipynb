{
 "cells": [
  {
   "cell_type": "code",
   "execution_count": null,
   "id": "cdd73a1f",
   "metadata": {},
   "outputs": [],
   "source": [
    "class mamifero(): \n",
    "    # Atributos de clase\n",
    "    vertebrado = True\n",
    "    amamanta = True\n",
    "\n",
    "\n",
    "    def __init__(self, alimentacion, altura, peso, progenie=0):\n",
    "        # Atributos de instancia\n",
    "        self.alimentacion = alimentacion   # carnívoro, omnívoro, etc.\n",
    "        self.altura = altura #cm\n",
    "        self.peso = peso #kg\n",
    "        self.progenie = progenie \n",
    "\n",
    "    # Cuántos puede tener y cuántos van a sobrevivir    \n",
    "    def reproducirse(self, max_progenie):\n",
    "        self.progenie +=  choice(range( max_progenie))\n",
    "    \n",
    "    def crecer(self, crecimiento):\n",
    "        self.altura += crecimiento\n",
    "        self.peso += crecimiento * 0.4\n",
    "\n",
    "#Y provemos nuestros metódos:\n",
    "perro=mamifero(\"omnívoro\", 43, 6.1)\n",
    "perro.reproducirse(6)\n",
    "print(\"El tipo de alimentación de nuestro perro es: \", perro.alimentacion, \", mide\",\\\n",
    "      perro.altura,\"cms, pesa\",perro.peso, \"kg y su descendencia asciende a\",perro.progenie)"
   ]
  },
  {
   "cell_type": "markdown",
   "id": "5b8b9465",
   "metadata": {},
   "source": [
    "Haremos una clase como ejemplo:"
   ]
  },
  {
   "cell_type": "code",
   "execution_count": null,
   "id": "bee95ff4",
   "metadata": {},
   "outputs": [],
   "source": [
    "class monotrema(mamifero):\n",
    "    espolon = True\n",
    "\n",
    "    def poner_huevos(self, max_eggs):\n",
    "        eggs = 0\n",
    "\n",
    "        for n in range(max_eggs):\n",
    "            if choice((True, False)):\n",
    "                huevos += 1"
   ]
  }
 ],
 "metadata": {
  "language_info": {
   "name": "python"
  }
 },
 "nbformat": 4,
 "nbformat_minor": 5
}

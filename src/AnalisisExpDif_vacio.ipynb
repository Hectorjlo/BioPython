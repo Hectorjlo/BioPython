{
 "cells": [
  {
   "cell_type": "markdown",
   "id": "bc1e0c27",
   "metadata": {},
   "source": [
    "# Análisis de datos transcriptómicos"
   ]
  },
  {
   "cell_type": "markdown",
   "id": "90240c0e",
   "metadata": {},
   "source": [
    "## Pregunta\n",
    "\n",
    "> ¿Cómo podemos identificar genes diferencialmente expresados entre dos condiciones biológicas a partir de datos de RNA-Seq?\n",
    "\n",
    "## Objetivos\n",
    "\n",
    "**General:**\n",
    "\n",
    "> Brindar una visión general del flujo de trabajo para el **análisis de expresión diferencial** a partir de datos de RNA-Seq, que permita comparar dos **condiciones experimentales** e identificar los genes con **diferencias de expresión estadísticamente significativas**, utilizando **Python** y la biblioteca **pydeseq2**.\n",
    "\n",
    "**Específicos:**\n",
    "\n",
    "> 1. Comprender las etapas principales del flujo de análisis de expresión diferencial (normalización, estimación de dispersión, pruebas estadísticas).\n",
    "> 2. Utilizar el paquete pyDESeq para realizar un análisis de expresión diferencial a partir de una matriz de conteos y metadatos experimentales.\n",
    "> 3. Interpretar los resultados del análisis, incluyendo valores de fold change, p-values y adjusted p-values.\n",
    "> 4.Generar visualizaciones básicas (como gráficos MA o volcanos) para resumir los resultados y facilitar su interpretación.\n",
    "> 5. Consolidar el flujo completo desde la carga de datos hasta la obtención de resultados biológicamente interpretables."
   ]
  },
  {
   "cell_type": "markdown",
   "id": "6cc5a206",
   "metadata": {},
   "source": [
    "## 1. ¿Qué es el análisis de expresión diferencial?\n",
    "\n",
    "Un organismo puede tener miles de genes; algunos de ellos están siempre activos y son necesarios para su funcionamiento básico. Sin embargo, existen otros genes cuya expresión puede “apagarse” o “encenderse” en respuesta a determinadas condiciones ambientales o funcionales.\n",
    "\n",
    "Los estudios de **expresión diferencial** buscan precisamente determinar **qué genes cambian su nivel de expresión** entre dos o más condiciones (por ejemplo, una **condición basal** frente a una **condición experimental**), lo que permite identificar posibles **genes regulados diferencialmente** y comprender mejor los procesos biológicos subyacentes."
   ]
  },
  {
   "cell_type": "markdown",
   "id": "59c6e47c",
   "metadata": {},
   "source": [
    "## 2. Flujo general del análisis de expresión diferencial\n",
    "\n",
    "De manera general, los pasos a seguir para realizar un **análisis de expresión diferencial** se pueden resumir en las siguientes etapas:\n",
    "\n",
    "1. **Lectura de datos:** Importar la **tabla de abundancias** o matriz de conteos que contiene el número de lecturas por gen y por muestra.  \n",
    "2. **Análisis exploratorio de los datos:** Generar **gráficas y estadísticas descriptivas** que permitan obtener una visión general y detectar posibles anomalías o sesgos en los datos.  \n",
    "3. **Filtrado de datos:** Eliminar genes con **baja expresión** o conteos poco significativos para evitar ruido en el análisis.  \n",
    "4. **Normalización:** Ajustar los datos para hacer las **muestras comparables** entre sí, compensando diferencias en la profundidad de secuenciación.  \n",
    "5. **Pruebas estadísticas:** Aplicar métodos estadísticos para **inferir la expresión diferencial**, es decir, detectar los genes cuyo nivel de expresión cambia significativamente entre condiciones más allá de la variación aleatoria.  \n",
    "6. **Interpretación de resultados:** Clasificar los genes como **no significativos**, **sobreexpresados** o **subexpresados**, de acuerdo con los valores de corte seleccionados para el nivel de significancia (*padjust*, FDR) y el cambio de expresión (*log₂ fold change*).  \n",
    "7. **Representación visual de los resultados:** Crear gráficas como **MA plots**, **volcano plots** o **heatmaps** para facilitar la interpretación y comunicación de los hallazgos.  \n",
    "8. **Análisis posterior:** Explorar las **funciones biológicas** de los genes diferencialmente expresados mediante análisis de enriquecimiento o anotación funcional.\n",
    "\n",
    "En las siguientes secciones realizaremos de manera práctica los pasos del **1 al 7**, utilizando **Python** y la biblioteca **pyDESeq**."
   ]
  },
  {
   "cell_type": "markdown",
   "id": "3dbca265",
   "metadata": {
    "vscode": {
     "languageId": "plaintext"
    }
   },
   "source": [
    "## 3. Lectura de datos (tabla de conteos)\n",
    "\n",
    "En este ejemplo trabajaremos con la **tabla de conteos** relacionada con la expresión del gen **Pasilla** en *Drosophila melanogaster*, generada previamente en la clase de alineamiento. Esta tabla contiene el **número de lecturas asignadas a cada gen** en las **siete muestras** asociadas a las condiciones *treated* (3 muestras) y *untreated* (4 muestras). Estos datos constituyen el **punto de partida** para el análisis de expresión diferencial.\n",
    "\n",
    "Para la lectura de los datos utilizaremos la biblioteca [`pandas`](https://pandas.pydata.org/Pandas_Cheat_Sheet.pdf), una herramienta fundamental en Python para la manipulación y análisis de datos en formato tabular.\n"
   ]
  },
  {
   "cell_type": "code",
   "execution_count": null,
   "id": "252b5b6b",
   "metadata": {},
   "outputs": [],
   "source": [
    "# Cargar la biblioteca pandas\n",
    "import pandas as pd\n",
    "\n",
    "df_count = pd.read_csv('tmp\\All_counts_pasilla.txt', sep=\"\\t\", index_col=0)\n",
    "display(df_count)\n",
    "\n",
    "\n",
    "\n",
    "\n",
    "\n",
    "# Imprimesión del número de renglones y columnas\n",
    "df_count.shape\n"
   ]
  },
  {
   "cell_type": "markdown",
   "id": "339e00ef-3f92-4f0d-bc46-f7b036b9e7c7",
   "metadata": {},
   "source": [
    "Cambiaremos y reordenaremos los nombres de las muestras para que sean más claros. Las muestras **GSM461176–GSM461178** y **GSM461182** pertenecen a la condición *“Untreated”*, mientras que las muestras **GSM461179–GSM461181** corresponden a la condición *“Treated”*. Esta asignación facilitará la interpretación de los resultados durante el análisis diferencial de expresión."
   ]
  },
  {
   "cell_type": "code",
   "execution_count": null,
   "id": "ab6e4d85-513f-4248-bd4f-ae712836c04c",
   "metadata": {},
   "outputs": [],
   "source": [
    "# Reordenar el DataFrame\n",
    "\n",
    "\n",
    "\n",
    "# Reasignando los nombres de columnas\n",
    "\n",
    "\n",
    "\n"
   ]
  },
  {
   "cell_type": "markdown",
   "id": "9e62454c",
   "metadata": {},
   "source": [
    "## 4. Análisis exploratorio de los datos\n",
    "\n",
    "Una vez filtrados los datos, realizaremos un análisis exploratorio para examinar su comportamiento y distribución. Este análisis se llevará a cabo de forma visual, mediante una serie de gráficas que nos permitirán identificar patrones o posibles anomalías en los datos.  \n",
    "\n",
    "Para ello utilizaremos la biblioteca **`seaborn`**, que se estudió en la sesión previa.  \n"
   ]
  },
  {
   "cell_type": "markdown",
   "id": "efe831d6",
   "metadata": {},
   "source": [
    "### 4.1 Distribución de los conteos por muestra\n",
    "\n",
    "La primera gráfica que generaremos será un **boxplot**, en el que el eje **X** representa las muestras y el eje **Y** la **distribución de los conteos**.  \n",
    "\n",
    "Esta gráfica es importante porque permite **visualizar la variabilidad y la dispersión** de los datos entre muestras, identificar **valores atípicos** y detectar posibles **diferencias en la escala o distribución** de los conteos. En el contexto del análisis de expresión génica, el boxplot ayuda a evaluar si las muestras presentan comportamientos similares o si existen sesgos sistemáticos que podrían afectar el análisis posterior.\n"
   ]
  },
  {
   "cell_type": "markdown",
   "id": "6d4aa648",
   "metadata": {},
   "source": [
    "> **Nota:**  \n",
    "> Para todas las gráficas que generaremos en esta sección, trabajaremos con los datos **transformados**, aplicando una transformación **log₂**. Esta transformación actúa como una **pseudo-normalización**, permitiendo manejar mejor la **distribución asimétrica de los conteos** y facilitando la **comparación visual entre muestras**.\n",
    ">\n",
    "> Para realizar la transformación utilizaremos la función `log2` de la biblioteca **NumPy**.\n"
   ]
  },
  {
   "cell_type": "code",
   "execution_count": null,
   "id": "2f9995fa",
   "metadata": {},
   "outputs": [],
   "source": [
    "# Cargando la biblioteca\n",
    "import numpy as np\n",
    "\n",
    "# Calcular el log2 de la tabla de conteos\n",
    "\n"
   ]
  },
  {
   "cell_type": "markdown",
   "id": "54944556",
   "metadata": {},
   "source": [
    "Por otra parte, los datos están en **formato ancho (wide)**, pero necesitamos que estén en **formato largo (long)** para trabajar con ellos en `seaborn`. Para ello utilizaremos la función `melt` de **pandas**, que transforma la tabla adecuadamente. Además, agregaremos una columna con el nombre de la **condición** a la que pertenece cada muestra:"
   ]
  },
  {
   "cell_type": "code",
   "execution_count": null,
   "id": "fc3a46a8",
   "metadata": {},
   "outputs": [],
   "source": [
    "# Transformando la tabla de formato wide a formato long\n",
    "\n",
    "\n",
    "# Incorporando la columna Cond, para indicar la condición de cada muestra\n",
    "\n",
    "\n"
   ]
  },
  {
   "cell_type": "markdown",
   "id": "9a11c065",
   "metadata": {},
   "source": [
    "Con `df_LogMelt`, podemos generar la **gráfica de cajas** utilizando la función `boxplot` de **seaborn**. Esta gráfica permitirá visualizar la **distribución de los conteos** por muestra y condición."
   ]
  },
  {
   "cell_type": "code",
   "execution_count": null,
   "id": "91e44b07",
   "metadata": {},
   "outputs": [],
   "source": [
    "# Importando las bibliotecas de graficación\n",
    "import seaborn as sns\n",
    "import matplotlib.pyplot as plt\n",
    "\n",
    "# Generando el boxplot\n",
    "colores_lista = [\"skyblue\", \"forestgreen\"]\n",
    "\n",
    "\n",
    "#Agregando titulos\n",
    "\n",
    "\n",
    "\n",
    "\n",
    "# Ajustar posición de la leyenda y cambiar tamaño de letra\n",
    "\n",
    "\n",
    "\n"
   ]
  },
  {
   "cell_type": "markdown",
   "id": "1285a148",
   "metadata": {},
   "source": [
    "Las siguientes gráficas que exploraremos son las de **densidad**. Estas gráficas permiten visualizar la **distribución de los valores** de manera continua, mostrando dónde se concentran los datos y facilitando la comparación entre muestras o condiciones.\n",
    "\n",
    "Para generar estas gráficas utilizaremos la función `displot` de **Seaborn** con el tipo `kde` (Kernel Density Estimation), que permite trazar la **estimación de la densidad**:"
   ]
  },
  {
   "cell_type": "code",
   "execution_count": null,
   "id": "ea7cc385",
   "metadata": {},
   "outputs": [],
   "source": [
    "# Generando las gráficas de densidad\n",
    "\n",
    "\n",
    "\n",
    "\n",
    "#Agregando titulos\n",
    "\n",
    "\n",
    "\n",
    "\n"
   ]
  },
  {
   "cell_type": "markdown",
   "id": "d38e4cfb",
   "metadata": {},
   "source": [
    "### 4.2 PCA\n",
    "\n",
    "Para explorar la **variabilidad general de los datos** y detectar patrones entre muestras, realizamos un **Análisis de Componentes Principales (PCA)**.\n",
    "\n",
    "El **PCA** reduce la dimensionalidad de los datos al transformar las variables originales en **componentes principales** ortogonales que capturan la mayor parte de la **varianza total**. Esto permite representar relaciones complejas en un espacio más compacto y fácil de interpretar.\n",
    "\n",
    "En Python, el cálculo de las **componentes principales** se puede realizar utilizando la clase `PCA` del módulo `sklearn.decomposition`, como se muestra en el siguiente código:\n"
   ]
  },
  {
   "cell_type": "code",
   "execution_count": null,
   "id": "1142ba73",
   "metadata": {},
   "outputs": [],
   "source": [
    "# Cargando la función PCA de la biblioteca sklearn\n",
    "from sklearn.decomposition import PCA\n",
    "\n",
    "# Transponer para que los genes queden en columnas\n",
    "\n",
    "\n",
    "# Inicia el modelo de Análisis de Componentes Principales, para evaluar 2 componentes\n",
    "\n",
    "\n",
    "\n",
    "\n",
    "# Calculando las componentes principales\n",
    "\n",
    "\n",
    "\n",
    "\n",
    "# Creando un dataframe con las componentes, para su posterior graficación\n",
    "\n",
    "\n",
    "\n"
   ]
  },
  {
   "cell_type": "markdown",
   "id": "5e790d64",
   "metadata": {},
   "source": [
    "Una vez calculadas las **componentes principales**, podemos **visualizar la dispersión de las muestras** en el espacio formado por las dos primeras componentes (PC1 y PC2), mediante un **diagrama de dispersión**.  \n",
    "\n",
    "Para ello, utilizamos la función `scatterplot` de **seaborn**, que permite representar cada muestra como un punto y diferenciar las condiciones experimentales mediante colores:\n"
   ]
  },
  {
   "cell_type": "code",
   "execution_count": null,
   "id": "58f270f2",
   "metadata": {},
   "outputs": [],
   "source": [
    "# Graficando la pca con un scatterplot\n",
    "formas=[\"^\",\"D\"]\n",
    "\n",
    "\n",
    "\n",
    "\n",
    "# Ajustar su posición de la leyenda y cambiar tamaño de letra\n",
    "\n",
    "\n",
    "\n",
    "\n",
    "\n",
    "# Examinando las variables que tiene la variación\n",
    "\n",
    "\n"
   ]
  },
  {
   "cell_type": "markdown",
   "id": "0d6abe8d",
   "metadata": {},
   "source": [
    "El sitio donde se puede obtener la información en Seaborn es https://seaborn.pydata.org/tutorial/properties.html?utm_source=chatgpt.com y en Matplotlib es https://matplotlib.org/stable/api/markers_api.html?utm_source=chatgpt.com. A continuación se presenta una tabla con algunos de ellos."
   ]
  },
  {
   "cell_type": "markdown",
   "id": "ebad1603",
   "metadata": {},
   "source": [
    "| Código | Descripción                           |     Código     | Descripción                             |                  |\n",
    "| :----: | ------------------------------------- | :------------: | --------------------------------------- | ---------------- |\n",
    "|  `\".\"` | Punto                                 |      `\",\"`     | Pixel (más pequeño)                     |                  |\n",
    "|  `\"o\"` | Círculo                               |      `\"v\"`     | Triángulo hacia abajo                   |                  |\n",
    "|  `\"^\"` | Triángulo hacia arriba                |      `\"<\"`     | Triángulo hacia la izquierda            |                  |\n",
    "|  `\">\"` | Triángulo hacia la derecha            |      `\"1\"`     | Triángulo hacia abajo (estrecho)        |                  |\n",
    "|  `\"2\"` | Triángulo hacia arriba (estrecho)     |      `\"3\"`     | Triángulo hacia la izquierda (estrecho) |                  |\n",
    "|  `\"4\"` | Triángulo hacia la derecha (estrecho) |      `\"s\"`     | Cuadrado                                |                  |\n",
    "|  `\"p\"` | Pentágono                             |      `\"P\"`     | Cruz gruesa (plus filled)               |                  |\n",
    "|  `\"*\"` | Estrella                              |      `\"h\"`     | Hexágono 1                              |                  |\n",
    "|  `\"H\"` | Hexágono 2                            |      `\"+\"`     | Cruz                                    |                  |\n",
    "|  `\"x\"` | X                                     |      `\"X\"`     | X gruesa (filled)                       |                  |\n",
    "|  `\"D\"` | Diamante                              |      `\"d\"`     | Diamante delgado                        |                  |\n",
    "|  `\"\\|\"` | Línea vertical                              |      `\"_\"`     | Línea horizontal                        |                  |\n"
   ]
  },
  {
   "cell_type": "markdown",
   "id": "e649bf46",
   "metadata": {},
   "source": [
    "## 5. Filtrando datos poco significativos\n",
    "\n",
    "Una manera sencilla de filtrar los datos es eliminar aquellos genes que tengan cero conteos en todas las muestras. Esto permite reducir el tamaño de la tabla y enfocar el análisis únicamente en los genes que presentan algún nivel de expresión, como se muestra en el siguiente código:"
   ]
  },
  {
   "cell_type": "code",
   "execution_count": null,
   "id": "73bb3813",
   "metadata": {},
   "outputs": [],
   "source": [
    "# Filtrando los genes que tienen al menos un conteo mayor a cero en alguna columna\n",
    "\n",
    "\n",
    "\n",
    "# Impresión del número de filas resultantes\n",
    "\n",
    "\n"
   ]
  },
  {
   "cell_type": "markdown",
   "id": "e40c5220",
   "metadata": {},
   "source": [
    "Para un análisis más robusto, se utilizan los **conteos por millón (CPM)**, que ajustan los conteos de cada gen según la **profundidad de secuenciación** de cada muestra. Así, se calcula la proporción de lecturas por gen, se multiplica por 1 millón y se filtran los genes con expresión muy baja en la mayoría de las muestras, siguiendo lo recomendado por **Anders et al. (2013)**, quienes sugieren filtrar genes con CPM menor a un umbral **U** en al menos **n muestras**, donde **n** es el tamaño del grupo más pequeño de réplicas.  \n",
    "\n",
    "A continuación definiremos la función `cpm()` y filtraremos los genes con **CPM > 5 en al menos 3 muestras** (ya que el grupo más pequeño de réplicas es 3), eliminando los genes poco expresados:"
   ]
  },
  {
   "cell_type": "code",
   "execution_count": null,
   "id": "32775b8f",
   "metadata": {},
   "outputs": [],
   "source": [
    "# Función para calcular los conteos por millón\n",
    "\n",
    "def cpm(df):\n",
    "    \"\"\"\n",
    "    Calcula los conteos por millón (CPM) de un DataFrame de conteos brutos.\n",
    "\n",
    "    Args:\n",
    "        df (pd.DataFrame): DataFrame con valores numéricos (conteos de genes)\n",
    "    \n",
    "    Returns:\n",
    "        pd.DataFrame: DataFrame con los valores de CPM\n",
    "    \"\"\"\n",
    "    return (df / df.sum()) * 1000000"
   ]
  },
  {
   "cell_type": "code",
   "execution_count": null,
   "id": "3fc1a602",
   "metadata": {},
   "outputs": [],
   "source": [
    "# Filtrando la tabla de conteos, con U = 5 \n",
    "# en un número mínimo de muestras n= 3\n",
    "\n",
    "\n",
    "\n",
    "\n",
    "# Impresión del número de filas resultantes\n",
    "\n",
    "\n",
    "\n",
    "# Guardando el dataframe con la matriz de conteos filtrada\n",
    "\n",
    "\n",
    "\n"
   ]
  },
  {
   "cell_type": "markdown",
   "id": "c97a3053",
   "metadata": {},
   "source": [
    "## 6. Análisis de expresión diferencial  \n",
    "\n",
    "Para realizar el **análisis de expresión diferencial**, utilizaremos la biblioteca **pydeseq2**.\n",
    "\n",
    "Como paso inicial, reorganizaremos la **tabla de conteos** para que los **genes estén en columnas** y las **muestras en filas**, el formato requerido por esta biblioteca.\n"
   ]
  },
  {
   "cell_type": "code",
   "execution_count": null,
   "id": "f6bac884",
   "metadata": {},
   "outputs": [],
   "source": [
    "# Cargando los modulos de pydeseq2\n",
    "from pydeseq2.dds import DeseqDataSet\n",
    "from pydeseq2.default_inference import DefaultInference\n",
    "from pydeseq2.ds import DeseqStats\n",
    "from pydeseq2.preprocessing import deseq2_norm\n",
    "\n",
    "import os\n",
    "\n",
    "# Haciendo la transpuesta de la tabla de conteos\n",
    "df_CountFilter_T = df_CountFilter.T\n",
    "display(df_CountFilter_T.head())"
   ]
  },
  {
   "cell_type": "markdown",
   "id": "2d5dee7f",
   "metadata": {},
   "source": [
    "### 6.1 Creación de la matriz de diseño o metadata  \n",
    "\n",
    "Primero, creamos la **matriz de diseño** (o **metadata**), que especifica la **asociación entre las muestras y sus respectivas condiciones experimentales**. Esta información es fundamental para que PyDESeq2 pueda identificar qué grupos serán comparados durante el análisis.\n",
    "\n"
   ]
  },
  {
   "cell_type": "code",
   "execution_count": null,
   "id": "c0a50f6a",
   "metadata": {},
   "outputs": [],
   "source": [
    "# Creación de la matriz de diseño\n",
    "metadata = pd.DataFrame(Condiciones, columns=[\"condition\"], index=df_CountFilter_T.index)\n",
    "print(metadata)"
   ]
  },
  {
   "cell_type": "markdown",
   "id": "037d133d",
   "metadata": {},
   "source": [
    "### 6.2 Creación del objeto DESeqData\n",
    "\n",
    "DESeq2 trabaja con objetos de tipo `DESeqData`, los cuales almacenan toda la información necesaria para realizar el análisis de **expresión diferencial**. \n",
    "\n",
    "Para crear este objeto, se requiere **la tabla de conteos**, la **matriz de diseño** y el nombre de la **columna** dentro de la metadataque contiene la **condición experimental de cada muestra**.\n",
    "\n",
    "La creación del objeto se realiza mediante la función `DeseqDataSet`"
   ]
  },
  {
   "cell_type": "code",
   "execution_count": null,
   "id": "48321f7a",
   "metadata": {},
   "outputs": [],
   "source": [
    "# Creando el objeto dds\n",
    "dds = DeseqDataSet(\n",
    "    counts = df_CountFilter_T,\n",
    "    metadata = metadata\n",
    ")\n",
    "print(dds)"
   ]
  },
  {
   "cell_type": "markdown",
   "id": "1ff18ef3",
   "metadata": {},
   "source": [
    "### 6.3 Normalización y cálculo de dispersión\n",
    "\n",
    "\n",
    "Una vez creado el objeto `DeseqDataSet`, se ejecuta el método `deseq2()`, el cual lleva a cabo varios pasos fundamentales del análisis de expresión diferencial.  \n",
    "\n",
    "Primero, realiza la **normalización** de los conteos mediante la estimación de **factores de tamaño**, que compensan las diferencias en la **profundidad de secuenciación** entre muestras. Después, estima la **dispersión** de cada gen, que representa la **variabilidad biológica** entre réplicas, y finalmente ajusta el modelo estadístico para calcular los **cambios en la expresión génica (log₂ fold change)** entre las condiciones experimentales.  "
   ]
  },
  {
   "cell_type": "code",
   "execution_count": null,
   "id": "dedb5a56",
   "metadata": {},
   "outputs": [],
   "source": [
    "# Aplicar el método deseq2 a los datos\n",
    "dds.deseq2()"
   ]
  },
  {
   "cell_type": "markdown",
   "id": "3fe1437c",
   "metadata": {},
   "source": [
    "En este punto, los **parámetros del análisis** se almacenan organizando los campos por claves. En particular:\n",
    "\n",
    "- **`X`** almacena los **datos de conteo**.  \n",
    "- **`obs`** contiene información **a nivel de muestra (1D)**, como los **factores de diseño** y los **`size_factors`** utilizados en la normalización.  \n",
    "- **`obsm`** guarda información **multidimensional a nivel de muestra**, como la **matriz de diseño (`design_matrix`)**.  \n",
    "- **`var`** almacena información **a nivel de gen (1D)**, como los **nombres de los genes** y las **dispersiónes (`dispersions`)** estimadas.  \n",
    "- **`varm`** contiene información **multidimensional a nivel de gen**, como los **valores de cambio en la expresión (`LFC`)**.\n",
    "\n",
    "Como ejemplo, a continuación se muestra cómo podemos acceder a las  muestras y valores de **normalización**, a las **dispersiónes** y a los **valores de cambio en la expresión (LFCs)** en **escala logarítmica natural**:\n",
    "\n"
   ]
  },
  {
   "cell_type": "code",
   "execution_count": null,
   "id": "000f95e2",
   "metadata": {},
   "outputs": [],
   "source": [
    "# Solicitando la información de las muestras\n",
    "print(\"***** Información de las muestras *****\")\n",
    "print(dds.obs)\n",
    "\n",
    "# Solicitando la información de la dispersión\n",
    "print(\"***** Información de la dispersión *****\")\n",
    "print(dds.varm[\"dispersions\"])\n",
    "\n",
    "# Solicitando los valores de cambio LFC\n",
    "print(\"***** Información de LFC *****\")\n",
    "print(dds.varm[\"LFC\"])"
   ]
  },
  {
   "cell_type": "markdown",
   "id": "31599ba0",
   "metadata": {},
   "source": [
    "### 6.4 Análisis estadístico con la clase `DeseqStats`\n",
    "\n",
    "Una vez realizada la **normalización**, el cálculo de la **dispersión** y obtenidos los **valores de cambio en la expresión (LFC)**, se pueden realizar las **pruebas estadísticas** para calcular los **p-values** y los **p-values ajustados**, fundamentales para identificar genes diferencialmente expresados.\n",
    "\n",
    "Para ello, utilizaremos la función `DeseqStats`, que requiere dos argumentos obligatorios:\n",
    "\n",
    "- **`dds`**: el objeto `DESeqDataSet` que contiene la información de **normalización** y **dispersión**.  \n",
    "- **`contrast`**: una lista de 3 cadenas de la forma `[\"variable\", \"condición_prueba\", \"condición_basal\"]`, que define la comparación de interés.\n",
    "\n",
    "La función crea un objeto de la clase `DeseqStats`, que se utilizará posteriormente para calcular los **p-values** y realizar el análisis estadístico de la expresión diferencial."
   ]
  },
  {
   "cell_type": "code",
   "execution_count": null,
   "id": "62499c84",
   "metadata": {},
   "outputs": [],
   "source": [
    "# Creando el objeto de tipo DeseqStats\n",
    "ds = DeseqStats(dds, contrast=[\"condition\", \"Treated\",\"Untreated\"])\n",
    "print(ds)"
   ]
  },
  {
   "cell_type": "markdown",
   "id": "e759bd3f",
   "metadata": {},
   "source": [
    "Finalmente, utilizando la función `summary()` se ejecutan todas las **pruebas estadísticas**, calculando los **p-values** y los **p-values ajustados**, haciendo uso de la información de normalización y dispersión previamente almacenada en el objeto `DeseqStats`."
   ]
  },
  {
   "cell_type": "code",
   "execution_count": null,
   "id": "c073cd6a",
   "metadata": {},
   "outputs": [],
   "source": [
    "# EvaluandoCalculando las pruebas estadísticas\n",
    "ds.summary()"
   ]
  },
  {
   "cell_type": "markdown",
   "id": "4c9d0322",
   "metadata": {},
   "source": [
    "Los resultados obtenidos al aplicar la función `summary()` se almacenan en el atributo `results_df`, que es un **DataFrame**.  "
   ]
  },
  {
   "cell_type": "code",
   "execution_count": null,
   "id": "a3f62388",
   "metadata": {},
   "outputs": [],
   "source": [
    "# Guardando los resultados en res_df_pyDESeq2\n",
    "res_df_pyDESeq2 = ds.results_df\n",
    "res_df_pyDESeq2.head()\n",
    "\n",
    "# Guardando los resultados en un archivo\n",
    "res_df_pyDESeq2.to_csv(\"../data/ExpDifRes.txt\") "
   ]
  },
  {
   "cell_type": "markdown",
   "id": "e623f030",
   "metadata": {},
   "source": [
    "Entre los atributos disponibles se encuentran:\n",
    "\n",
    "- **`padj`**: p-value ajustado, útil para controlar la tasa de falsos positivos.  \n",
    "- **`log2FoldChange`**: cambio en la expresión en escala log₂ entre condiciones.\n",
    "\n",
    "Estos valores permiten **identificar y filtrar genes con expresión diferencial significativa**."
   ]
  },
  {
   "cell_type": "markdown",
   "id": "d1db47ae",
   "metadata": {},
   "source": [
    "## 7. Interpretación de resultados\n",
    "\n",
    "### 7.1 Genes sub y sobre expresados\n",
    "\n",
    "Para obtener los nombres de los genes que se encuentran **sobreexpresados** o **subexpresados**, realizaremos un **filtrado de los resultados**, considerando los siguientes criterios:\n",
    "\n",
    "- **Magnitud del cambio (`log2FoldChange`)**: al menos ±2  \n",
    "- **p-value ajustado (`padj`)**: ≤ 0.01\n",
    "\n",
    "Este filtrado nos permitirá identificar genes con cambios de expresión **estadísticamente significativos** y de **magnitud relevante**.\n",
    "\n",
    "Esta tarea la realizaremos con la función `select` de la biblioteca **NumPy**:\n"
   ]
  },
  {
   "cell_type": "code",
   "execution_count": null,
   "id": "54cc7b68",
   "metadata": {},
   "outputs": [],
   "source": [
    "# Si los resultados de la ED, están en un archivo. Leer el archivo\n",
    "\n",
    "\n",
    "# Definir las condiciones con los valores de corte\n",
    "cond = [ (res_df_pyDESeq2[\"padj\"] <= 0.01) & (res_df_pyDESeq2[\"log2FoldChange\"] >= 2),(res_df_pyDESeq2[\"padj\"] <= 0.01) & (res_df_pyDESeq2[\"log2FoldChange\"] <= -2)]\n",
    "\n",
    "# Definir los valores correspondientes\n",
    "opc = [\"UP\", \"DOWN\"]\n",
    "\n",
    "# Crear la nueva columna\n",
    "\n",
    "\n",
    "# Desplegando el dataframe\n",
    "\n",
    "\n",
    "\n"
   ]
  },
  {
   "cell_type": "markdown",
   "id": "b9aa790c",
   "metadata": {},
   "source": [
    "Para conocer cuántos valores hay en cada categoría (**UP**, **DOWN** y **Non-DE**), utilizaremos el método `value_counts()` de **pandas**.\n"
   ]
  },
  {
   "cell_type": "code",
   "execution_count": null,
   "id": "693b2f47",
   "metadata": {},
   "outputs": [],
   "source": [
    "# Contando los valores asociados a cada categoría de la columna Expresion\n",
    "\n",
    "\n",
    "\n"
   ]
  },
  {
   "cell_type": "markdown",
   "id": "78496be7",
   "metadata": {},
   "source": [
    "### 7.2 Interpretación grafica de los resultados\n",
    "\n",
    "Una forma eficaz de **resumir e interpretar** los resultados del análisis de expresión diferencial es mediante su **visualización gráfica**. Para ello, utilizaremos dos tipos de representaciones: el **volcano plot** y los **mapas de calor (heatmaps)**, que permiten identificar patrones y genes diferencialmente expresados de manera más intuitiva.\n",
    "\n",
    "### 7.2.1 Gráfica de Volcano\n",
    "\n",
    "El **volcano plot** es una gráfica de dispersión que combina la **magnitud del cambio de expresión** (`log2FoldChange`) con la **significancia estadística** (`-log10(padj)`), permitiendo identificar de forma rápida los genes **sobreexpresados** y **subexpresados** de manera significativa.\n",
    "\n",
    "Antes de generar la gráfica, calcularemos el valor de `-log10(padj)` utilizando la biblioteca **NumPy**, ya que este valor se empleará para representar el eje **Y** de la gráfica.\n"
   ]
  },
  {
   "cell_type": "code",
   "execution_count": null,
   "id": "6216cfe2",
   "metadata": {},
   "outputs": [],
   "source": [
    "# Crear la columna log10Neg\n",
    "\n",
    "\n"
   ]
  },
  {
   "cell_type": "code",
   "execution_count": null,
   "id": "931150ca",
   "metadata": {},
   "outputs": [],
   "source": [
    "# Creando la gráfica de puntos\n",
    "plt.figure(figsize=(4,6))\n",
    "colores = {\n",
    "    \"UP\": \"red\",\n",
    "    \"DOWN\": \"forestgreen\",\n",
    "    \"Non-DE\": \"darkgray\",\n",
    "}\n",
    "\n",
    "\n",
    "\n",
    "\n",
    "\n",
    "\n"
   ]
  },
  {
   "cell_type": "markdown",
   "id": "fdcafee2",
   "metadata": {},
   "source": [
    "### 7.2.2 Heatmap\n",
    "\n",
    "Además de la **gráfica de Volcano**, también podemos generar un **mapa de calor (heatmap)** para visualizar y contrastar la expresión de los **genes diferencialmente expresados** de manera significativa entre condiciones.  \n",
    "\n",
    "Para ello, primero **obtenemos los conteos normalizados** utilizando la función `deseq2_norm()` y seleccionamos únicamente los **genes significativos** (aquellos clasificados como *UP* o *DOWN*).  \n",
    "\n",
    "Posteriormente, aplicamos una **normalización tipo Z-score por gen**, lo que permite centrar y escalar los valores de expresión, facilitando la comparación entre muestras y genes.  \n",
    "\n",
    "Finalmente, utilizamos la función `clustermap()` de **seaborn**, que genera el mapa de calor agrupando tanto los genes como las muestras según su similitud en los patrones de expresión.\n"
   ]
  },
  {
   "cell_type": "code",
   "execution_count": null,
   "id": "0b8df7d8",
   "metadata": {},
   "outputs": [],
   "source": [
    "# Obtener los conteos normalizados, estos dependen de la biblioteca de pydeseq2\n",
    "# Existen dos maneras de obtenerlos\n",
    "# 1. Con la función deseq2_norm(\n",
    "#normalizacion = deseq2_norm(df_CountFilter_T)\n",
    "\n",
    "# 2. Directamente del objeto dds\n",
    "#normCounts = pd.DataFrame(dds.layers['normed_counts'].T,index=dds.var_names,columns=dds.obs_names)#normalizacion[0]\n",
    "\n",
    "#display(normCounts)\n"
   ]
  },
  {
   "cell_type": "code",
   "execution_count": null,
   "id": "fc923a9e",
   "metadata": {},
   "outputs": [],
   "source": [
    "# Si los conteos normalizados están en un archivo. Leer el archivo\n",
    "normCounts = pd.read_csv(\"resultados/ConteosNormaliz.csv\", index_col = 0)\n",
    "\n",
    "# Seleccionando los genes significativos\n",
    "\n",
    "\n",
    "# Aplicando un logaritmo a los conteos para achatar picos\n",
    "\n",
    "\n",
    "\n",
    "\n",
    "\n",
    "# Graficando el heatmap\n",
    "import seaborn as sns\n",
    "import matplotlib.pyplot as plt\n",
    "\n",
    "\n",
    "\n",
    "\n",
    "\n"
   ]
  }
 ],
 "metadata": {
  "kernelspec": {
   "display_name": "Python 3",
   "language": "python",
   "name": "python3"
  },
  "language_info": {
   "codemirror_mode": {
    "name": "ipython",
    "version": 3
   },
   "file_extension": ".py",
   "mimetype": "text/x-python",
   "name": "python",
   "nbconvert_exporter": "python",
   "pygments_lexer": "ipython3",
   "version": "3.6.9"
  }
 },
 "nbformat": 4,
 "nbformat_minor": 5
}
